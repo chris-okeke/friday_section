{
 "cells": [
  {
   "cell_type": "markdown",
   "id": "3fc7a328",
   "metadata": {},
   "source": [
    "# WEEK 3"
   ]
  },
  {
   "cell_type": "markdown",
   "id": "e4a21381",
   "metadata": {},
   "source": [
    "- String\n",
    "- List\n",
    "- Tuple\n",
    "- Dictionaries"
   ]
  },
  {
   "cell_type": "markdown",
   "id": "969683ff",
   "metadata": {},
   "source": [
    "# Strings"
   ]
  },
  {
   "cell_type": "markdown",
   "id": "0079fa19",
   "metadata": {},
   "source": [
    "String is a collection of alphabets, words or other characters. It is one of the primitive data structures and are the building blocks for data manipulation."
   ]
  },
  {
   "cell_type": "code",
   "execution_count": 170,
   "id": "07986176",
   "metadata": {},
   "outputs": [],
   "source": [
    "name = \"Sasha\"\n",
    "place = 'London'"
   ]
  },
  {
   "cell_type": "code",
   "execution_count": 171,
   "id": "36d91e08",
   "metadata": {},
   "outputs": [
    {
     "data": {
      "text/plain": [
       "'Sasha'"
      ]
     },
     "execution_count": 171,
     "metadata": {},
     "output_type": "execute_result"
    }
   ],
   "source": [
    "name "
   ]
  },
  {
   "cell_type": "code",
   "execution_count": 3,
   "id": "ee2c34b3",
   "metadata": {},
   "outputs": [
    {
     "data": {
      "text/plain": [
       "'London'"
      ]
     },
     "execution_count": 3,
     "metadata": {},
     "output_type": "execute_result"
    }
   ],
   "source": [
    "place"
   ]
  },
  {
   "cell_type": "code",
   "execution_count": 4,
   "id": "f2e2f00d",
   "metadata": {},
   "outputs": [
    {
     "name": "stdout",
     "output_type": "stream",
     "text": [
      "Name is Sasha Place is London\n"
     ]
    }
   ],
   "source": [
    "print(\"Name is \" + name, \"Place is \" + place)"
   ]
  },
  {
   "cell_type": "code",
   "execution_count": 169,
   "id": "807eb373",
   "metadata": {},
   "outputs": [
    {
     "data": {
      "text/plain": [
       "'SHAHA23'"
      ]
     },
     "execution_count": 169,
     "metadata": {},
     "output_type": "execute_result"
    }
   ],
   "source": [
    "name = \"SHAHA23\"\n",
    "name"
   ]
  },
  {
   "cell_type": "markdown",
   "id": "a6e43c95",
   "metadata": {},
   "source": [
    "Python Arithmetic Operators"
   ]
  },
  {
   "cell_type": "code",
   "execution_count": 6,
   "id": "62f0d573",
   "metadata": {},
   "outputs": [],
   "source": [
    "color = \"Black\" * 3"
   ]
  },
  {
   "cell_type": "code",
   "execution_count": 7,
   "id": "7e28469c",
   "metadata": {},
   "outputs": [
    {
     "data": {
      "text/plain": [
       "'BlackBlackBlack'"
      ]
     },
     "execution_count": 7,
     "metadata": {},
     "output_type": "execute_result"
    }
   ],
   "source": [
    "color"
   ]
  },
  {
   "cell_type": "code",
   "execution_count": 8,
   "id": "09a56162",
   "metadata": {},
   "outputs": [
    {
     "data": {
      "text/plain": [
       "15"
      ]
     },
     "execution_count": 8,
     "metadata": {},
     "output_type": "execute_result"
    }
   ],
   "source": [
    "len(color)"
   ]
  },
  {
   "cell_type": "markdown",
   "id": "4d448438",
   "metadata": {},
   "source": [
    "String Indexing and Slicing"
   ]
  },
  {
   "cell_type": "markdown",
   "id": "08a4e9d0",
   "metadata": {},
   "source": [
    "Indexing: To retrieve an element of the list.\n",
    "\n",
    "Slicing: A slice is a subset of list elements.\n",
    "    \n",
    "string[start : end]"
   ]
  },
  {
   "cell_type": "code",
   "execution_count": 105,
   "id": "413ecf55",
   "metadata": {},
   "outputs": [],
   "source": [
    "text = \"This is the string\""
   ]
  },
  {
   "cell_type": "code",
   "execution_count": 10,
   "id": "1bc15904",
   "metadata": {},
   "outputs": [
    {
     "data": {
      "text/plain": [
       "'T'"
      ]
     },
     "execution_count": 10,
     "metadata": {},
     "output_type": "execute_result"
    }
   ],
   "source": [
    "text[0]"
   ]
  },
  {
   "cell_type": "code",
   "execution_count": 11,
   "id": "670ff457",
   "metadata": {},
   "outputs": [
    {
     "data": {
      "text/plain": [
       "'i'"
      ]
     },
     "execution_count": 11,
     "metadata": {},
     "output_type": "execute_result"
    }
   ],
   "source": [
    "text[2]"
   ]
  },
  {
   "cell_type": "code",
   "execution_count": 16,
   "id": "86e092cf",
   "metadata": {},
   "outputs": [
    {
     "data": {
      "text/plain": [
       "'g'"
      ]
     },
     "execution_count": 16,
     "metadata": {},
     "output_type": "execute_result"
    }
   ],
   "source": [
    "text[-1]"
   ]
  },
  {
   "cell_type": "code",
   "execution_count": 18,
   "id": "8690f449",
   "metadata": {},
   "outputs": [
    {
     "data": {
      "text/plain": [
       "'This'"
      ]
     },
     "execution_count": 18,
     "metadata": {},
     "output_type": "execute_result"
    }
   ],
   "source": [
    "text[:4]"
   ]
  },
  {
   "cell_type": "code",
   "execution_count": 19,
   "id": "ca578644",
   "metadata": {},
   "outputs": [
    {
     "data": {
      "text/plain": [
       "'his'"
      ]
     },
     "execution_count": 19,
     "metadata": {},
     "output_type": "execute_result"
    }
   ],
   "source": [
    "text[1:4]"
   ]
  },
  {
   "cell_type": "code",
   "execution_count": 20,
   "id": "a6c91dfd",
   "metadata": {},
   "outputs": [
    {
     "data": {
      "text/plain": [
       "'is the string'"
      ]
     },
     "execution_count": 20,
     "metadata": {},
     "output_type": "execute_result"
    }
   ],
   "source": [
    "text[5:]"
   ]
  },
  {
   "cell_type": "code",
   "execution_count": 21,
   "id": "e786d5db",
   "metadata": {},
   "outputs": [
    {
     "name": "stdout",
     "output_type": "stream",
     "text": [
      "This is the string\n"
     ]
    }
   ],
   "source": [
    "print(text[:4] + text[4:])"
   ]
  },
  {
   "cell_type": "code",
   "execution_count": 24,
   "id": "25fbc0c7",
   "metadata": {},
   "outputs": [
    {
     "data": {
      "text/plain": [
       "'is'"
      ]
     },
     "execution_count": 24,
     "metadata": {},
     "output_type": "execute_result"
    }
   ],
   "source": [
    "text[5:7]"
   ]
  },
  {
   "cell_type": "code",
   "execution_count": 27,
   "id": "5d56d21a",
   "metadata": {},
   "outputs": [
    {
     "data": {
      "text/plain": [
       "'s'"
      ]
     },
     "execution_count": 27,
     "metadata": {},
     "output_type": "execute_result"
    }
   ],
   "source": [
    "text[-6]"
   ]
  },
  {
   "cell_type": "markdown",
   "id": "fd4ad63d",
   "metadata": {},
   "source": [
    "In Python, strings are immutable. This means that they can't be modified. So if we wanted to fix a typo in a string, we can't simply modify the wrong character. We would have to create a new string with the typo corrected. We can also assign a new value to the variable holding our string."
   ]
  },
  {
   "cell_type": "code",
   "execution_count": 29,
   "id": "353694be",
   "metadata": {},
   "outputs": [],
   "source": [
    "change_ch = \"thrs is the wrong string\""
   ]
  },
  {
   "cell_type": "code",
   "execution_count": 30,
   "id": "48cbc67c",
   "metadata": {},
   "outputs": [
    {
     "data": {
      "text/plain": [
       "'r'"
      ]
     },
     "execution_count": 30,
     "metadata": {},
     "output_type": "execute_result"
    }
   ],
   "source": [
    "change_ch[2]"
   ]
  },
  {
   "cell_type": "code",
   "execution_count": 31,
   "id": "4759394e",
   "metadata": {},
   "outputs": [
    {
     "data": {
      "text/plain": [
       "'this is the wrong string'"
      ]
     },
     "execution_count": 31,
     "metadata": {},
     "output_type": "execute_result"
    }
   ],
   "source": [
    "change_ch[0:2] + \"i\" + change_ch[3:]"
   ]
  },
  {
   "cell_type": "markdown",
   "id": "babb2a9d",
   "metadata": {},
   "source": [
    "String Methods"
   ]
  },
  {
   "cell_type": "code",
   "execution_count": 34,
   "id": "190a6fe3",
   "metadata": {},
   "outputs": [
    {
     "data": {
      "text/plain": [
       "2"
      ]
     },
     "execution_count": 34,
     "metadata": {},
     "output_type": "execute_result"
    }
   ],
   "source": [
    "word = \"asxahjsbhajxbsxgewe\"\n",
    "word.index(\"x\")"
   ]
  },
  {
   "cell_type": "code",
   "execution_count": 35,
   "id": "57196361",
   "metadata": {},
   "outputs": [
    {
     "data": {
      "text/plain": [
       "'RICHARD'"
      ]
     },
     "execution_count": 35,
     "metadata": {},
     "output_type": "execute_result"
    }
   ],
   "source": [
    "name = 'richard'\n",
    "name.upper()"
   ]
  },
  {
   "cell_type": "code",
   "execution_count": 36,
   "id": "99427b36",
   "metadata": {},
   "outputs": [
    {
     "data": {
      "text/plain": [
       "'richard'"
      ]
     },
     "execution_count": 36,
     "metadata": {},
     "output_type": "execute_result"
    }
   ],
   "source": [
    "name.lower()"
   ]
  },
  {
   "cell_type": "code",
   "execution_count": 40,
   "id": "241f096b",
   "metadata": {},
   "outputs": [
    {
     "data": {
      "text/plain": [
       "'richard'"
      ]
     },
     "execution_count": 40,
     "metadata": {},
     "output_type": "execute_result"
    }
   ],
   "source": [
    "name = \" richard \"\n",
    "name.strip()"
   ]
  },
  {
   "cell_type": "code",
   "execution_count": 41,
   "id": "4070cd1f",
   "metadata": {},
   "outputs": [
    {
     "data": {
      "text/plain": [
       "' richard'"
      ]
     },
     "execution_count": 41,
     "metadata": {},
     "output_type": "execute_result"
    }
   ],
   "source": [
    "name.rstrip()"
   ]
  },
  {
   "cell_type": "code",
   "execution_count": 42,
   "id": "9d01f687",
   "metadata": {},
   "outputs": [
    {
     "data": {
      "text/plain": [
       "'richard '"
      ]
     },
     "execution_count": 42,
     "metadata": {},
     "output_type": "execute_result"
    }
   ],
   "source": [
    "name.lstrip()"
   ]
  },
  {
   "cell_type": "code",
   "execution_count": 65,
   "id": "717bd6bd",
   "metadata": {},
   "outputs": [
    {
     "data": {
      "text/plain": [
       "3"
      ]
     },
     "execution_count": 65,
     "metadata": {},
     "output_type": "execute_result"
    }
   ],
   "source": [
    "text = \"this is the string\"\n",
    "text.count(\"s\")"
   ]
  },
  {
   "cell_type": "code",
   "execution_count": 66,
   "id": "67b5d740",
   "metadata": {},
   "outputs": [
    {
     "data": {
      "text/plain": [
       "True"
      ]
     },
     "execution_count": 66,
     "metadata": {},
     "output_type": "execute_result"
    }
   ],
   "source": [
    "text.endswith(\"string\")"
   ]
  },
  {
   "cell_type": "code",
   "execution_count": 81,
   "id": "9d8e78ef",
   "metadata": {},
   "outputs": [],
   "source": [
    "text = \"h\""
   ]
  },
  {
   "cell_type": "code",
   "execution_count": 82,
   "id": "63d9bf26",
   "metadata": {},
   "outputs": [
    {
     "data": {
      "text/plain": [
       "True"
      ]
     },
     "execution_count": 82,
     "metadata": {},
     "output_type": "execute_result"
    }
   ],
   "source": [
    "text.isalpha()"
   ]
  },
  {
   "cell_type": "code",
   "execution_count": 75,
   "id": "b9e41236",
   "metadata": {},
   "outputs": [
    {
     "data": {
      "text/plain": [
       "False"
      ]
     },
     "execution_count": 75,
     "metadata": {},
     "output_type": "execute_result"
    }
   ],
   "source": [
    "text.isnumeric()"
   ]
  },
  {
   "cell_type": "code",
   "execution_count": 52,
   "id": "46239570",
   "metadata": {},
   "outputs": [
    {
     "data": {
      "text/plain": [
       "True"
      ]
     },
     "execution_count": 52,
     "metadata": {},
     "output_type": "execute_result"
    }
   ],
   "source": [
    "num = \"13467\"\n",
    "num.isnumeric()"
   ]
  },
  {
   "cell_type": "code",
   "execution_count": 53,
   "id": "82694976",
   "metadata": {},
   "outputs": [
    {
     "data": {
      "text/plain": [
       "['this', 'is', 'the', 'string']"
      ]
     },
     "execution_count": 53,
     "metadata": {},
     "output_type": "execute_result"
    }
   ],
   "source": [
    "text.split()"
   ]
  },
  {
   "cell_type": "code",
   "execution_count": 54,
   "id": "ece80900",
   "metadata": {},
   "outputs": [
    {
     "data": {
      "text/plain": [
       "'this is the string'"
      ]
     },
     "execution_count": 54,
     "metadata": {},
     "output_type": "execute_result"
    }
   ],
   "source": [
    "\" \".join(['this', 'is', 'the', 'string'])"
   ]
  },
  {
   "cell_type": "code",
   "execution_count": 55,
   "id": "b53c5786",
   "metadata": {},
   "outputs": [
    {
     "data": {
      "text/plain": [
       "'this...is...the...string'"
      ]
     },
     "execution_count": 55,
     "metadata": {},
     "output_type": "execute_result"
    }
   ],
   "source": [
    "\"...\".join(['this', 'is', 'the', 'string'])"
   ]
  },
  {
   "cell_type": "markdown",
   "id": "c3005873",
   "metadata": {},
   "source": [
    "String Formatting"
   ]
  },
  {
   "cell_type": "code",
   "execution_count": 56,
   "id": "0ee1e977",
   "metadata": {},
   "outputs": [],
   "source": [
    "name = 'john'\n",
    "number = len(name) * 3"
   ]
  },
  {
   "cell_type": "code",
   "execution_count": 57,
   "id": "1339788c",
   "metadata": {},
   "outputs": [
    {
     "name": "stdout",
     "output_type": "stream",
     "text": [
      "This is your name: john, and this is your lucky number: 12\n"
     ]
    }
   ],
   "source": [
    "print('This is your name: {}, and this is your lucky number: {}'.format(name, number))"
   ]
  },
  {
   "cell_type": "markdown",
   "id": "c2fd0033",
   "metadata": {},
   "source": [
    "Write a function that can show the name and grade of students with fllowing format: Reed received 80% on the exam"
   ]
  },
  {
   "cell_type": "code",
   "execution_count": 58,
   "id": "c4112df2",
   "metadata": {},
   "outputs": [
    {
     "name": "stdout",
     "output_type": "stream",
     "text": [
      "Reed received 80% on the exam.\n",
      "Paige received 92% on the exam.\n",
      "Jesse received 85% on the exam.\n"
     ]
    }
   ],
   "source": [
    "def student_grade(name, grade):\n",
    "    return \"{} received {}% on the exam.\".format(name, grade)\n",
    "\n",
    "print(student_grade(\"Reed\", 80))\n",
    "print(student_grade(\"Paige\", 92))\n",
    "print(student_grade(\"Jesse\", 85))"
   ]
  },
  {
   "cell_type": "code",
   "execution_count": 59,
   "id": "e53be28b",
   "metadata": {},
   "outputs": [],
   "source": [
    "price = 8.1\n",
    "with_tax = price * 1.09"
   ]
  },
  {
   "cell_type": "code",
   "execution_count": 60,
   "id": "106273fe",
   "metadata": {},
   "outputs": [
    {
     "name": "stdout",
     "output_type": "stream",
     "text": [
      "base price is: 8.1, with the tax is : 8.829\n"
     ]
    }
   ],
   "source": [
    "print(\"base price is: {}, with the tax is : {}\".format(price, with_tax))"
   ]
  },
  {
   "cell_type": "markdown",
   "id": "0515961a",
   "metadata": {},
   "source": [
    "This code defines a function called mirrored_string, which takes a string (my_string) as input and checks whether the string reads the same both forwards and backwards, ignoring non-letter characters and considering the case of the letters. It implements a simple palindrome check with letters only."
   ]
  },
  {
   "cell_type": "code",
   "execution_count": 85,
   "id": "4223c1e1",
   "metadata": {},
   "outputs": [
    {
     "name": "stdout",
     "output_type": "stream",
     "text": [
      "True\n",
      "False\n",
      "True\n"
     ]
    }
   ],
   "source": [
    "def mirrored_string(my_string):\n",
    "    forwards = \"\"\n",
    "    backwards = \"\"\n",
    "    \n",
    "    for character in my_string:\n",
    "        if character.isalpha():\n",
    "            forwards = forwards + character\n",
    "            backwards = character + backwards\n",
    "            \n",
    "    if forwards.lower() == backwards.lower():\n",
    "        return True\n",
    "    return False\n",
    "    \n",
    "print(mirrored_string(\"12 Noon\")) # Should be True\n",
    "print(mirrored_string(\"Was it a car or cat I saw\")) # Should be False\n",
    "print(mirrored_string(\"eve, Madam Eve\")) # Should be True\n"
   ]
  },
  {
   "cell_type": "code",
   "execution_count": 89,
   "id": "09d1c73a",
   "metadata": {},
   "outputs": [
    {
     "name": "stdout",
     "output_type": "stream",
     "text": [
      "12 ounces equals 0.75 pounds\n",
      "50.5 ounces equals 3.16 pounds\n",
      "16 ounces equals 1.00 pounds\n"
     ]
    }
   ],
   "source": [
    "# This function converts measurement equivalents. Output is formatted \n",
    "# as, \"x ounces equals y pounds\", with y limited to 2 decimal places. \n",
    "def convert_weight(ounces):\n",
    "\n",
    "    # Conversion formula: 1 pound = 16 ounces\n",
    "    pounds = ounces / 16\n",
    "    result = \"{} ounces equals {:.2f} pounds\".format(ounces, pounds)\n",
    "    return result\n",
    "    # The result is composed using the .format() method. There are two\n",
    "    # placeholders in the string: the first is for the \"ounces\" \n",
    "    # variable and the second is for the \"pounds\" variable. The second\n",
    "    # placeholder formats the float result of the conversion \n",
    "    # calculation to be limited to 2 decimal places.\n",
    "\n",
    "print(convert_weight(12)) # Should be: 12 ounces equals 0.75 pounds\n",
    "print(convert_weight(50.5)) # Should be: 50.5 ounces equals 3.16 pounds\n",
    "print(convert_weight(16)) # Should be: 16 ounces equals 1.00 pounds"
   ]
  },
  {
   "cell_type": "code",
   "execution_count": 90,
   "id": "131a27bd",
   "metadata": {},
   "outputs": [
    {
     "name": "stdout",
     "output_type": "stream",
     "text": [
      "Iva1985\n",
      "Rod2000\n",
      "Den1991\n"
     ]
    }
   ],
   "source": [
    "def username(last_name, birth_year):\n",
    "    return \"{}{}\".format(last_name[0:3], birth_year)\n",
    "\n",
    "print(username(\"Ivanov\", \"1985\"))\n",
    "# Should display \"Iva1985\" \n",
    "print(username(\"Rodríguez\", \"2000\"))\n",
    "# Should display \"Rod2000\" \n",
    "print(username(\"Deng\", \"1991\")) \n",
    "# Should display \"Den1991\""
   ]
  },
  {
   "cell_type": "code",
   "execution_count": 98,
   "id": "3fc3577c",
   "metadata": {},
   "outputs": [],
   "source": [
    "p = len(\"2023\")\n",
    "s = \"Last year’s annual report will be released in March 2023\""
   ]
  },
  {
   "cell_type": "code",
   "execution_count": 110,
   "id": "3c5b5e6f",
   "metadata": {},
   "outputs": [
    {
     "name": "stdout",
     "output_type": "stream",
     "text": [
      "Last year’s annual report will be released in March 2024\n",
      "In April, the CEO will hold a conference\n",
      "The convention is scheduled for June\n"
     ]
    }
   ],
   "source": [
    "def replace_date(schedule, old_date, new_date):\n",
    "    \n",
    "    if schedule.endswith(old_date):\n",
    "        p = len(old_date)\n",
    "        return schedule[:-p] + schedule[-p:].replace(old_date, new_date)\n",
    "    return schedule\n",
    "\n",
    "print(replace_date(\"Last year’s annual report will be released in March 2023\", \"2023\", \"2024\")) \n",
    "# Should display \"Last year’s annual report will be released in March 2024\"\n",
    "print(replace_date(\"In April, the CEO will hold a conference\", \"April\", \"May\")) \n",
    "# Should display \"In April, the CEO will hold a conference\"\n",
    "print(replace_date(\"The convention is scheduled for October\", \"October\", \"June\")) \n",
    "# Should display \"The convention is scheduled for June\"\n"
   ]
  },
  {
   "cell_type": "markdown",
   "id": "44afa1b1",
   "metadata": {},
   "source": [
    "- The function first checks if the old_date appears at the end of the schedule string using the endswith method.\n",
    "\n",
    "- If the old_date is found at the end of the schedule string:\n",
    "\n",
    "- The variable p is set to the length of the old_date. This is done to know how many characters to remove from the end of the schedule string to get rid of the old_date.\n",
    "\n",
    "- The new_schedule string is created by taking the portion of the original schedule string from the beginning up to (but not including) the last p characters, and then appending the new_date to it. This effectively removes the old_date from the end and replaces it with the new_date.\n",
    "\n",
    "- The function then returns the updated new_schedule if the old_date was found and replaced, or it returns the original schedule if the old_date was not found at the end."
   ]
  },
  {
   "cell_type": "markdown",
   "id": "ca0bd207",
   "metadata": {},
   "source": [
    "Write a Python function called reverse_string that takes a string as input and returns the reverse of that string. The function should reverse the order of characters in the string and return the result."
   ]
  },
  {
   "cell_type": "code",
   "execution_count": null,
   "id": "3a42cde5",
   "metadata": {},
   "outputs": [],
   "source": [
    "\n",
    "\n",
    "# Test cases\n",
    "print(reverse_string(\"hello\"))    # Output: \"olleh\"\n",
    "print(reverse_string(\"python\"))   # Output: \"nohtyp\"\n",
    "print(reverse_string(\"racecar\"))  # Output: \"racecar\"\n"
   ]
  },
  {
   "cell_type": "markdown",
   "id": "d15ed9f9",
   "metadata": {},
   "source": [
    "rite a Python function called remove_duplicates that takes a string as input and returns a new string with all duplicate characters removed. The order of the characters should be preserved.\n",
    "\n",
    "For example:\n",
    "\n",
    "- Input: \"programming\"\n",
    "\n",
    "- Output: \"progamin\""
   ]
  },
  {
   "cell_type": "code",
   "execution_count": null,
   "id": "bf728301",
   "metadata": {},
   "outputs": [],
   "source": [
    "\n",
    "# Test cases\n",
    "print(remove_duplicates(\"programming\"))    # Output: \"progamin\"\n",
    "print(remove_duplicates(\"abracadabra\"))    # Output: \"abrcd\"\n",
    "print(remove_duplicates(\"hello\"))         # Output: \"helo\"\n"
   ]
  },
  {
   "cell_type": "markdown",
   "id": "82555a66",
   "metadata": {},
   "source": [
    "# List"
   ]
  },
  {
   "cell_type": "markdown",
   "id": "1ac32dd8",
   "metadata": {},
   "source": [
    "Lists in Python are defined using square brackets, with the elements stored in the list separated by commas. In Python, lists and strings are quite similar. They’re both examples of sequences of data. Sequences have similar properties, like (1) being able to iterate over them using for loops; (2) support indexing; (3) using the len function to find the length of the sequence; (4) using the plus operator + in order to concatenate; and (5) using the in keyword to check if the sequence contains a value."
   ]
  },
  {
   "cell_type": "code",
   "execution_count": 112,
   "id": "49721a2f",
   "metadata": {},
   "outputs": [
    {
     "data": {
      "text/plain": [
       "['hello', 'word']"
      ]
     },
     "execution_count": 112,
     "metadata": {},
     "output_type": "execute_result"
    }
   ],
   "source": [
    "x = ['hello', 'word']\n",
    "x"
   ]
  },
  {
   "cell_type": "code",
   "execution_count": 113,
   "id": "6c9b6947",
   "metadata": {},
   "outputs": [
    {
     "data": {
      "text/plain": [
       "list"
      ]
     },
     "execution_count": 113,
     "metadata": {},
     "output_type": "execute_result"
    }
   ],
   "source": [
    "type(x)"
   ]
  },
  {
   "cell_type": "code",
   "execution_count": 114,
   "id": "5c205784",
   "metadata": {},
   "outputs": [
    {
     "data": {
      "text/plain": [
       "2"
      ]
     },
     "execution_count": 114,
     "metadata": {},
     "output_type": "execute_result"
    }
   ],
   "source": [
    "len(x)"
   ]
  },
  {
   "cell_type": "code",
   "execution_count": 115,
   "id": "888b2d03",
   "metadata": {},
   "outputs": [
    {
     "data": {
      "text/plain": [
       "True"
      ]
     },
     "execution_count": 115,
     "metadata": {},
     "output_type": "execute_result"
    }
   ],
   "source": [
    "'hello' in x"
   ]
  },
  {
   "cell_type": "code",
   "execution_count": 116,
   "id": "04d99127",
   "metadata": {},
   "outputs": [],
   "source": [
    "y = \"this is a sentence\""
   ]
  },
  {
   "cell_type": "code",
   "execution_count": 117,
   "id": "61664aaa",
   "metadata": {},
   "outputs": [],
   "source": [
    "l = y.split()"
   ]
  },
  {
   "cell_type": "code",
   "execution_count": 120,
   "id": "dab167d6",
   "metadata": {},
   "outputs": [
    {
     "data": {
      "text/plain": [
       "['this', 'is', 'a', 'sentence']"
      ]
     },
     "execution_count": 120,
     "metadata": {},
     "output_type": "execute_result"
    }
   ],
   "source": [
    "l"
   ]
  },
  {
   "cell_type": "code",
   "execution_count": 121,
   "id": "5a88aa8b",
   "metadata": {},
   "outputs": [
    {
     "data": {
      "text/plain": [
       "'this'"
      ]
     },
     "execution_count": 121,
     "metadata": {},
     "output_type": "execute_result"
    }
   ],
   "source": [
    "l[0]"
   ]
  },
  {
   "cell_type": "code",
   "execution_count": 127,
   "id": "655bb5ca",
   "metadata": {},
   "outputs": [
    {
     "data": {
      "text/plain": [
       "['This', 'is', 'a', 'lesson', 'about', 'lists']"
      ]
     },
     "execution_count": 127,
     "metadata": {},
     "output_type": "execute_result"
    }
   ],
   "source": [
    "a = \"This is a lesson about lists\"\n",
    "a.split()"
   ]
  },
  {
   "cell_type": "code",
   "execution_count": 132,
   "id": "750051d5",
   "metadata": {},
   "outputs": [],
   "source": [
    "b = \"now we are cooking!\"\n",
    "l = b.split()"
   ]
  },
  {
   "cell_type": "code",
   "execution_count": 134,
   "id": "8e778dd5",
   "metadata": {},
   "outputs": [
    {
     "data": {
      "text/plain": [
       "'now'"
      ]
     },
     "execution_count": 134,
     "metadata": {},
     "output_type": "execute_result"
    }
   ],
   "source": [
    "l[0]"
   ]
  },
  {
   "cell_type": "code",
   "execution_count": 125,
   "id": "7c217656",
   "metadata": {},
   "outputs": [
    {
     "data": {
      "text/plain": [
       "'lesson'"
      ]
     },
     "execution_count": 125,
     "metadata": {},
     "output_type": "execute_result"
    }
   ],
   "source": [
    "b = a.split()\n",
    "b[3]"
   ]
  },
  {
   "cell_type": "markdown",
   "id": "c9f8f548",
   "metadata": {},
   "source": [
    "write a function call get_word that takes a sentence and an integer n as input and aims to return the nth word from the sentence. "
   ]
  },
  {
   "cell_type": "code",
   "execution_count": 126,
   "id": "8a223ab0",
   "metadata": {},
   "outputs": [
    {
     "name": "stdout",
     "output_type": "stream",
     "text": [
      "lesson\n",
      "\n",
      "Now\n",
      "\n"
     ]
    }
   ],
   "source": [
    "def get_word(sentence, n):\n",
    "    if n > 0:\n",
    "        words = sentence.split()\n",
    "        if n <= len(words):\n",
    "            return(words[n-1])\n",
    "    return \"\"\n",
    "print(get_word(\"This is a lesson about lists\", 4)) # Should print: lesson\n",
    "print(get_word(\"This is a lesson about lists\", -4)) # Nothing\n",
    "print(get_word(\"Now we are cooking!\", 1)) # Should print: Now\n",
    "print(get_word(\"Now we are cooking!\", 5)) # Nothing"
   ]
  },
  {
   "cell_type": "markdown",
   "id": "261cbe0c",
   "metadata": {},
   "source": [
    "While lists and strings are both sequences, a big difference between them is that lists are mutable. This means that the contents of the list can be changed, unlike strings, which are immutable. You can add, remove, or modify elements in a list.\n",
    "\n",
    "You can add elements to the end of a list using the append method."
   ]
  },
  {
   "cell_type": "code",
   "execution_count": 178,
   "id": "782cb3fa",
   "metadata": {},
   "outputs": [],
   "source": [
    "fruit = ['banana', 'apple']"
   ]
  },
  {
   "cell_type": "code",
   "execution_count": 180,
   "id": "290a2346",
   "metadata": {},
   "outputs": [],
   "source": [
    "fruit.append('kiwi')"
   ]
  },
  {
   "cell_type": "code",
   "execution_count": 181,
   "id": "91626a9a",
   "metadata": {},
   "outputs": [
    {
     "data": {
      "text/plain": [
       "['banana', 'apple', 'kiwi']"
      ]
     },
     "execution_count": 181,
     "metadata": {},
     "output_type": "execute_result"
    }
   ],
   "source": [
    "fruit"
   ]
  },
  {
   "cell_type": "markdown",
   "id": "9036d6d0",
   "metadata": {},
   "source": [
    "If you want to add an element to a list in a specific position, you can use the method insert. The method takes two parameters: the first specifies the index in the list, and the second is the element to be added to the list."
   ]
  },
  {
   "cell_type": "code",
   "execution_count": 149,
   "id": "519303ad",
   "metadata": {},
   "outputs": [],
   "source": [
    "fruit.insert(1, 'orange')"
   ]
  },
  {
   "cell_type": "markdown",
   "id": "5402615a",
   "metadata": {},
   "source": [
    "You can remove elements from the list using the remove method. This method takes an element as a parameter, and removes the first occurrence of the element"
   ]
  },
  {
   "cell_type": "code",
   "execution_count": 140,
   "id": "e76c9e90",
   "metadata": {},
   "outputs": [],
   "source": [
    "fruit.remove('kiwi')"
   ]
  },
  {
   "cell_type": "code",
   "execution_count": 141,
   "id": "592bbdd3",
   "metadata": {},
   "outputs": [
    {
     "data": {
      "text/plain": [
       "['orange', 'banana', 'apple']"
      ]
     },
     "execution_count": 141,
     "metadata": {},
     "output_type": "execute_result"
    }
   ],
   "source": [
    "fruit"
   ]
  },
  {
   "cell_type": "markdown",
   "id": "cafad8d3",
   "metadata": {},
   "source": [
    "You can also remove elements from a list using the pop method. This method differs from the remove method in that it takes an index as a parameter, and returns the element that was removed."
   ]
  },
  {
   "cell_type": "code",
   "execution_count": 153,
   "id": "a3d473a0",
   "metadata": {},
   "outputs": [
    {
     "data": {
      "text/plain": [
       "'banana'"
      ]
     },
     "execution_count": 153,
     "metadata": {},
     "output_type": "execute_result"
    }
   ],
   "source": [
    "fruit.pop(0)"
   ]
  },
  {
   "cell_type": "code",
   "execution_count": 143,
   "id": "d035c478",
   "metadata": {},
   "outputs": [
    {
     "data": {
      "text/plain": [
       "['banana', 'apple']"
      ]
     },
     "execution_count": 143,
     "metadata": {},
     "output_type": "execute_result"
    }
   ],
   "source": [
    "fruit"
   ]
  },
  {
   "cell_type": "code",
   "execution_count": 144,
   "id": "fed786f6",
   "metadata": {},
   "outputs": [],
   "source": [
    "fruit[0] = \"melon\""
   ]
  },
  {
   "cell_type": "code",
   "execution_count": 145,
   "id": "7f8de719",
   "metadata": {},
   "outputs": [
    {
     "data": {
      "text/plain": [
       "['melon', 'apple']"
      ]
     },
     "execution_count": 145,
     "metadata": {},
     "output_type": "execute_result"
    }
   ],
   "source": [
    "fruit"
   ]
  },
  {
   "cell_type": "markdown",
   "id": "2d619bcd",
   "metadata": {},
   "source": [
    "Write a Python function called find_even_numbers that takes a list of integers as input and returns a new list containing only the even numbers from the input list.\n",
    "\n",
    "For example:\n",
    "\n",
    "- Input: [1, 2, 3, 4, 5, 6, 7, 8, 9, 10]\n",
    "\n",
    "- Output: [2, 4, 6, 8, 10]"
   ]
  },
  {
   "cell_type": "code",
   "execution_count": null,
   "id": "dbb1cade",
   "metadata": {},
   "outputs": [],
   "source": [
    "\n",
    "\n",
    "# Test cases\n",
    "print(find_even_numbers([1, 2, 3, 4, 5, 6, 7, 8, 9, 10])) # Output: [2, 4, 6, 8, 10]\n",
    "print(find_even_numbers([11, 22, 33, 44, 55, 66, 77, 88, 99])) # Output: [22, 44, 66, 88]\n",
    "print(find_even_numbers([2, 4, 6, 8, 10])) # Output: [2, 4, 6, 8, 10]\n"
   ]
  },
  {
   "cell_type": "markdown",
   "id": "c9d4ca80",
   "metadata": {},
   "source": [
    "Write a Python function called merge_lists that takes two lists of integers as input and returns a new list that merges the two input lists while keeping the elements sorted in ascending order.\n",
    "\n",
    "For example:\n",
    "\n",
    "- Input: [1, 3, 5, 7], [2, 4, 6, 8]\n",
    "\n",
    "- Output: [1, 2, 3, 4, 5, 6, 7, 8]"
   ]
  },
  {
   "cell_type": "code",
   "execution_count": null,
   "id": "0b00688e",
   "metadata": {},
   "outputs": [],
   "source": [
    "\n",
    "\n",
    "# Test cases\n",
    "print(merge_lists([1, 3, 5, 7], [2, 4, 6, 8]))  # Output: [1, 2, 3, 4, 5, 6, 7, 8]\n",
    "print(merge_lists([5, 10, 15], [1, 2, 20]))    # Output: [1, 2, 5, 10, 15, 20]\n",
    "print(merge_lists([1, 1, 1, 1], [2, 2, 2, 2]))  # Output: [1, 1, 1, 1, 2, 2, 2, 2]\n"
   ]
  },
  {
   "cell_type": "markdown",
   "id": "569fbbba",
   "metadata": {},
   "source": [
    "Create a list called math_operations that contains the following functions: add, subtract, multiply, and divide. Each function should take two arguments (two numbers) and perform the corresponding mathematical operation."
   ]
  },
  {
   "cell_type": "code",
   "execution_count": null,
   "id": "8947442c",
   "metadata": {},
   "outputs": [],
   "source": [
    "\n",
    "\n",
    "math_operations = [add, subtract, multiply, divide]\n",
    "\n",
    "\n",
    "\n",
    "print(result1)  # Output: 5 (2 + 3)\n",
    "print(result2)  # Output: 3 (5 - 2)\n",
    "print(result3)  # Output: 24 (4 * 6)\n",
    "print(result4)  # Output: 5.0 (10 / 2)\n"
   ]
  },
  {
   "cell_type": "markdown",
   "id": "1c0ca8dc",
   "metadata": {},
   "source": [
    "# Tuple"
   ]
  },
  {
   "cell_type": "markdown",
   "id": "4f2778d8",
   "metadata": {},
   "source": [
    "As we mentioned earlier, strings and lists are both examples of sequences. Strings are sequences of characters, and are immutable. Lists are sequences of elements of any data type, and are mutable. The third sequence type is the tuple. Tuples are like lists, since they can contain elements of any data type. But unlike lists, tuples are immutable. They’re specified using parentheses instead of square brackets."
   ]
  },
  {
   "cell_type": "code",
   "execution_count": 190,
   "id": "83074181",
   "metadata": {},
   "outputs": [],
   "source": [
    "name = ('john', 'steve', 'adam')"
   ]
  },
  {
   "cell_type": "code",
   "execution_count": 191,
   "id": "018f88c0",
   "metadata": {},
   "outputs": [
    {
     "data": {
      "text/plain": [
       "tuple"
      ]
     },
     "execution_count": 191,
     "metadata": {},
     "output_type": "execute_result"
    }
   ],
   "source": [
    "type(name)"
   ]
  },
  {
   "cell_type": "code",
   "execution_count": 192,
   "id": "93847b2a",
   "metadata": {},
   "outputs": [],
   "source": [
    "def convert_second(seconds):\n",
    "    hours = seconds // 3600\n",
    "    minutes = (seconds - hours * 3600) / 60\n",
    "    remaining_seconds = seconds - hours * 3600 - minutes * 60\n",
    "    return hours, minutes, remaining_seconds"
   ]
  },
  {
   "cell_type": "code",
   "execution_count": 193,
   "id": "e05a1319",
   "metadata": {},
   "outputs": [
    {
     "data": {
      "text/plain": [
       "(1577378, 7.883333333333334, 0.0)"
      ]
     },
     "execution_count": 193,
     "metadata": {},
     "output_type": "execute_result"
    }
   ],
   "source": [
    "convert_second(5678561273)"
   ]
  },
  {
   "cell_type": "code",
   "execution_count": 194,
   "id": "d9938f6e",
   "metadata": {},
   "outputs": [],
   "source": [
    "animal = ['lion', 'zebra', 'dolphin', 'monkey']"
   ]
  },
  {
   "cell_type": "code",
   "execution_count": 195,
   "id": "03151cc7",
   "metadata": {},
   "outputs": [],
   "source": [
    "char = 0\n",
    "for i in animal:\n",
    "    char += len(i)"
   ]
  },
  {
   "cell_type": "code",
   "execution_count": 196,
   "id": "b6544aab",
   "metadata": {},
   "outputs": [
    {
     "data": {
      "text/plain": [
       "22"
      ]
     },
     "execution_count": 196,
     "metadata": {},
     "output_type": "execute_result"
    }
   ],
   "source": [
    "char"
   ]
  },
  {
   "cell_type": "code",
   "execution_count": null,
   "id": "bdfd5970",
   "metadata": {},
   "outputs": [],
   "source": []
  },
  {
   "cell_type": "code",
   "execution_count": null,
   "id": "054c9fdc",
   "metadata": {},
   "outputs": [],
   "source": []
  },
  {
   "cell_type": "markdown",
   "id": "db05da33",
   "metadata": {},
   "source": [
    "what if you want to access the elements in a list, along with the index of the element in question? You can do this using the enumerate() function. The enumerate() function takes a list as a parameter and returns a tuple for each element in the list. The first value of the tuple is the index and the second value is the element itself."
   ]
  },
  {
   "cell_type": "code",
   "execution_count": 197,
   "id": "01ea0810",
   "metadata": {},
   "outputs": [],
   "source": [
    "winner = ['steve', 'ashley', 'john']"
   ]
  },
  {
   "cell_type": "code",
   "execution_count": 199,
   "id": "e5bed2b1",
   "metadata": {},
   "outputs": [
    {
     "name": "stdout",
     "output_type": "stream",
     "text": [
      "1 - steve\n",
      "2 - ashley\n",
      "3 - john\n"
     ]
    }
   ],
   "source": [
    "for index, person in enumerate(winner):\n",
    "    print(\"{} - {}\".format(index + 1, person))"
   ]
  },
  {
   "cell_type": "markdown",
   "id": "b16da5d2",
   "metadata": {},
   "source": [
    "Write a function call full_emails that takes list(contains name and email) and then return the list with following format: ['steve < steve@gmail.com >']"
   ]
  },
  {
   "cell_type": "code",
   "execution_count": 200,
   "id": "2a413587",
   "metadata": {},
   "outputs": [],
   "source": [
    "people = [('steve', 'steve@gmail.com')]"
   ]
  },
  {
   "cell_type": "code",
   "execution_count": 201,
   "id": "fef53117",
   "metadata": {},
   "outputs": [],
   "source": [
    "def full_emails(name):\n",
    "    result = []\n",
    "    for name, email in name:\n",
    "        result.append(\"{} <{}>\".format(name, email))\n",
    "    return result"
   ]
  },
  {
   "cell_type": "code",
   "execution_count": 202,
   "id": "f7c234cc",
   "metadata": {},
   "outputs": [
    {
     "data": {
      "text/plain": [
       "['steve <steve@gmail.com>']"
      ]
     },
     "execution_count": 202,
     "metadata": {},
     "output_type": "execute_result"
    }
   ],
   "source": [
    "full_emails([('steve', 'steve@gmail.com')])"
   ]
  },
  {
   "cell_type": "markdown",
   "id": "ce75a8f4",
   "metadata": {},
   "source": [
    "list[start:end:step]"
   ]
  },
  {
   "cell_type": "markdown",
   "id": "59781ef9",
   "metadata": {},
   "source": [
    "Write a function that can iterate over list element with 2 step"
   ]
  },
  {
   "cell_type": "code",
   "execution_count": 203,
   "id": "82ba9374",
   "metadata": {},
   "outputs": [
    {
     "name": "stdout",
     "output_type": "stream",
     "text": [
      "['a', 'c', 'e', 'g']\n",
      "['Orange', 'Strawberry', 'Peach']\n"
     ]
    }
   ],
   "source": [
    "def skip_elements(elements):\n",
    "    return elements[0::2]\n",
    "\n",
    "print(skip_elements([\"a\", \"b\", \"c\", \"d\", \"e\", \"f\", \"g\"])) # Should be ['a', 'c', 'e', 'g']\n",
    "print(skip_elements(['Orange', 'Pineapple', 'Strawberry', 'Kiwi', 'Peach'])) # Should be ['Orange', 'Strawberry', 'Peach']"
   ]
  },
  {
   "cell_type": "markdown",
   "id": "185f4b51",
   "metadata": {},
   "source": [
    "write a block of code that can iterate over number 1 to 10 and then multiply them to 7 and store it to the list"
   ]
  },
  {
   "cell_type": "code",
   "execution_count": null,
   "id": "fc6c32c0",
   "metadata": {},
   "outputs": [],
   "source": []
  },
  {
   "cell_type": "code",
   "execution_count": null,
   "id": "e5b4fb41",
   "metadata": {},
   "outputs": [],
   "source": []
  },
  {
   "cell_type": "markdown",
   "id": "5ac8615d",
   "metadata": {},
   "source": [
    "# list comprehension"
   ]
  },
  {
   "cell_type": "markdown",
   "id": "fa6fe28f",
   "metadata": {},
   "source": [
    "You can create a list from a sequence using a for loop, but there’s a more streamlined way to do this by using a list comprehension. List comprehensions allow you to create a new list from a sequence or a range in a single line."
   ]
  },
  {
   "cell_type": "code",
   "execution_count": null,
   "id": "5f799a28",
   "metadata": {},
   "outputs": [],
   "source": []
  },
  {
   "cell_type": "code",
   "execution_count": null,
   "id": "8d1fa2b2",
   "metadata": {},
   "outputs": [],
   "source": []
  },
  {
   "cell_type": "code",
   "execution_count": null,
   "id": "0e7eb319",
   "metadata": {},
   "outputs": [],
   "source": []
  },
  {
   "cell_type": "code",
   "execution_count": null,
   "id": "66804dc5",
   "metadata": {},
   "outputs": [],
   "source": []
  },
  {
   "cell_type": "code",
   "execution_count": null,
   "id": "5bc84e28",
   "metadata": {},
   "outputs": [],
   "source": []
  },
  {
   "cell_type": "markdown",
   "id": "8032b70c",
   "metadata": {},
   "source": [
    "write a block of code that can iterate over number 1 to 10 and then multiply them to 2 and store it to the list"
   ]
  },
  {
   "cell_type": "code",
   "execution_count": null,
   "id": "25a6ba8f",
   "metadata": {},
   "outputs": [],
   "source": []
  },
  {
   "cell_type": "code",
   "execution_count": null,
   "id": "c391a275",
   "metadata": {},
   "outputs": [],
   "source": []
  },
  {
   "cell_type": "code",
   "execution_count": null,
   "id": "86f8e446",
   "metadata": {},
   "outputs": [],
   "source": []
  },
  {
   "cell_type": "code",
   "execution_count": null,
   "id": "9234463a",
   "metadata": {},
   "outputs": [],
   "source": []
  },
  {
   "cell_type": "code",
   "execution_count": null,
   "id": "57043952",
   "metadata": {},
   "outputs": [],
   "source": [
    "years = [\"January 2023\", \"May 2025\", \"April 2023\", \"August 2024\", \"September 2025\", \"December 2023\"]"
   ]
  },
  {
   "cell_type": "code",
   "execution_count": null,
   "id": "c51e7e13",
   "metadata": {},
   "outputs": [],
   "source": []
  },
  {
   "cell_type": "code",
   "execution_count": null,
   "id": "15618823",
   "metadata": {},
   "outputs": [],
   "source": []
  },
  {
   "cell_type": "code",
   "execution_count": null,
   "id": "d8291ed5",
   "metadata": {},
   "outputs": [],
   "source": [
    "# This list comprehension creates a list of squared numbers (n*n). It\n",
    "# accepts two integer variables through the function’s parameters.\n",
    "def squares(start, end):\n",
    "    \n",
    "# The list comprehension calculates the square of a variable integer \n",
    "# \"n\", where \"n\" ranges from the \"start\" to \"end\" variables inclusively.\n",
    "# To be inclusive in a range(), add +1 to the end of range variable.\n",
    "    return _\n",
    "\n",
    "\n",
    "print(squares(2, 3))  # Should print [4, 9]\n",
    "print(squares(1, 5))  # Should print [1, 4, 9, 16, 25]\n",
    "print(squares(0, 10)) # Should print [0, 1, 4, 9, 16, 25, 36, 49, 64, 81, 100]"
   ]
  },
  {
   "cell_type": "code",
   "execution_count": null,
   "id": "6da98a1f",
   "metadata": {},
   "outputs": [],
   "source": [
    "years = [\"January 2023\", \"May 2025\", \"April 2023\", \"August 2024\", \"September 2025\", \"December 2023\"]\n",
    "\n",
    "# The list comprehension below creates a new list \"updated_years\" to\n",
    "# hold the command to replace the \"2023\" substring of the \"year\"\n",
    "# element with the substring \"2024\". This action will be executed if\n",
    "# the last 4 indices of the \"year\" string is equal to the substring\n",
    "# \"2023\". If false (else), the \"year\" element will be included in the\n",
    "# new list \"updated_years\" unchanged.\n",
    "updated_years = _\n",
    "\n",
    "\n",
    "print(updated_years)"
   ]
  },
  {
   "cell_type": "markdown",
   "id": "098a26d0",
   "metadata": {},
   "source": [
    "# Dictionaries"
   ]
  },
  {
   "cell_type": "markdown",
   "id": "ee88dfe4",
   "metadata": {},
   "source": [
    "Dictionaries are another data structure in Python. They’re similar to a list in that they can be used to organize data into collections. However, data in a dictionary isn't accessed based on its position. Data in a dictionary is organized into pairs of keys and values. You use the key to access the corresponding value. Where a list index is always a number, a dictionary key can be a different data type, like a string, integer, float, or even tuples."
   ]
  },
  {
   "cell_type": "markdown",
   "id": "4fd1e21a",
   "metadata": {},
   "source": [
    "When creating a dictionary, you use curly brackets: {}"
   ]
  },
  {
   "cell_type": "code",
   "execution_count": null,
   "id": "acef76c2",
   "metadata": {},
   "outputs": [],
   "source": []
  },
  {
   "cell_type": "code",
   "execution_count": null,
   "id": "162a2ac0",
   "metadata": {},
   "outputs": [],
   "source": []
  },
  {
   "cell_type": "code",
   "execution_count": null,
   "id": "1b3265e8",
   "metadata": {},
   "outputs": [],
   "source": []
  },
  {
   "cell_type": "code",
   "execution_count": null,
   "id": "8e1872f5",
   "metadata": {},
   "outputs": [],
   "source": []
  },
  {
   "cell_type": "code",
   "execution_count": null,
   "id": "49406948",
   "metadata": {},
   "outputs": [],
   "source": []
  },
  {
   "cell_type": "code",
   "execution_count": null,
   "id": "6868ebbd",
   "metadata": {},
   "outputs": [],
   "source": []
  },
  {
   "cell_type": "code",
   "execution_count": null,
   "id": "96e09f18",
   "metadata": {},
   "outputs": [],
   "source": []
  },
  {
   "cell_type": "code",
   "execution_count": null,
   "id": "7cd2ae4b",
   "metadata": {},
   "outputs": [],
   "source": []
  },
  {
   "cell_type": "code",
   "execution_count": null,
   "id": "e74ddb99",
   "metadata": {},
   "outputs": [],
   "source": []
  },
  {
   "cell_type": "code",
   "execution_count": null,
   "id": "f7aff569",
   "metadata": {},
   "outputs": [],
   "source": []
  },
  {
   "cell_type": "markdown",
   "id": "06e0a03e",
   "metadata": {},
   "source": [
    "Iterating over the Contents of a Dictionary"
   ]
  },
  {
   "cell_type": "code",
   "execution_count": null,
   "id": "69c3c8cd",
   "metadata": {},
   "outputs": [],
   "source": []
  },
  {
   "cell_type": "code",
   "execution_count": null,
   "id": "c156b035",
   "metadata": {},
   "outputs": [],
   "source": []
  },
  {
   "cell_type": "code",
   "execution_count": null,
   "id": "89c41d71",
   "metadata": {},
   "outputs": [],
   "source": []
  },
  {
   "cell_type": "code",
   "execution_count": null,
   "id": "92db6223",
   "metadata": {},
   "outputs": [],
   "source": []
  },
  {
   "cell_type": "code",
   "execution_count": null,
   "id": "8a66bd06",
   "metadata": {},
   "outputs": [],
   "source": []
  },
  {
   "cell_type": "code",
   "execution_count": null,
   "id": "477946c8",
   "metadata": {},
   "outputs": [],
   "source": [
    "pet_dictionary = {\"dogs\": [\"Yorkie\", \"Collie\", \"Bulldog\"], \n",
    "                  \"cats\": [\"Persian\", \"Scottish Fold\", \"Siberian\"], \n",
    "                  \"rabbits\": [\"Angora\", \"Holland Lop\", \"Harlequin\"]}"
   ]
  },
  {
   "cell_type": "code",
   "execution_count": null,
   "id": "0c9d9afb",
   "metadata": {},
   "outputs": [],
   "source": []
  },
  {
   "cell_type": "code",
   "execution_count": null,
   "id": "843378d7",
   "metadata": {},
   "outputs": [],
   "source": []
  },
  {
   "cell_type": "code",
   "execution_count": null,
   "id": "80009949",
   "metadata": {},
   "outputs": [],
   "source": [
    "# This function returns the total time, with minutes represented as \n",
    "# decimals (example: 1 hour 30 minutes = 1.5), for all end user time\n",
    "# spent accessing a server in a given day.\n",
    "def sum_server_use_time(Server):\n",
    "\n",
    "    # Initialize the variable as a float data type, which will be used\n",
    "    # to hold the sum of the total hours and minutes of server usage by\n",
    "    # end users in a day.\n",
    "    total_use_time = 0.0\n",
    "\n",
    "    # Iterate through the \"Server\" dictionary’s key and value items \n",
    "    # using a for loop.\n",
    "    for _:\n",
    "\n",
    "        # For each end user key, add the associated time value to the\n",
    "        # total sum of all end user use time.\n",
    "        _\n",
    "        \n",
    "    # Round the return value and limit to 2 decimal places.\n",
    "    return round(total_use_time, 2)\n",
    "\n",
    "FileServer = {\"EndUser1\": 2.25, \"EndUser2\": 4.5, \"EndUser3\": 1, \"EndUser4\": 3.75, \"EndUser5\": 0.6, \"EndUser6\": 8}\n",
    "\n",
    "print(sum_server_use_time(FileServer)) # Should print 20.1"
   ]
  },
  {
   "cell_type": "code",
   "execution_count": null,
   "id": "0d32e4f7",
   "metadata": {},
   "outputs": [],
   "source": []
  },
  {
   "cell_type": "code",
   "execution_count": null,
   "id": "683e0510",
   "metadata": {},
   "outputs": [],
   "source": [
    "print(list_full_names({\"Ali\": [\"Muhammad\", \"Amir\", \"Malik\"], \"Devi\": [\"Ram\", \"Amaira\"], \"Chen\": [\"Feng\", \"Li\"]}))"
   ]
  },
  {
   "cell_type": "code",
   "execution_count": null,
   "id": "009a4f9e",
   "metadata": {},
   "outputs": [],
   "source": [
    "# This function receives a dictionary, which contains resource \n",
    "# categories (keys) with a list of available resources (values) for a \n",
    "# company’s IT Department. The resources belong to multiple categories.\n",
    "# The function should reverse the keys and values to show which \n",
    "# categories (values) each resource (key) belongs to. \n",
    "\n",
    "\n",
    "def invert_resource_dict(resource_dictionary):\n",
    "  # Initialize a \"new_dictionary\" variable as a dict data type using\n",
    "  # empty {} curly brackets.\n",
    "    new_dictionary = {}\n",
    "    # The outer for loop iterates through each \"resource_group\" and \n",
    "    # associated \"resources\" in the \"resource_dictionary\" items.\n",
    "    for _:\n",
    "        # The inner for loop iterates over each \"resource\" value in \n",
    "        # the list of \"resources\" for one \"resource_group\" key at a time.\n",
    "        for _:\n",
    "            # The if-statement checks if the current \"resource\" value has \n",
    "            # been appended as a key to the \"new_dictionary\" yet.\n",
    "            if _:\n",
    "                # If True, then append the \"resource_group\" as a value to the\n",
    "                # \"resource\", which is now the key.\n",
    "                _\n",
    "            # If False (else), then add the \"resource\" as a new key with the \n",
    "            # \"resource_group\" as a value for that key.\n",
    "            else:\n",
    "                _\n",
    "    # Return the new dictionary once the outer for loop has completed  \n",
    "    # all iterations.\n",
    "    return(new_dictionary)\n",
    "\n",
    "\n",
    "print(invert_resource_dict({\"Hard Drives\": [\"IDE HDDs\", \"SCSI HDDs\"],\n",
    "        \"PC Parts\":  [\"IDE HDDs\", \"SCSI HDDs\", \"High-end video cards\", \"Basic video cards\"], \"Video Cards\": [\"High-end video cards\", \"Basic video cards\"]}))\n",
    "# Should print {'IDE HDDs': ['Hard Drives', 'PC Parts'], 'SCSI HDDs': ['Hard Drives', 'PC Parts'], 'High-end video cards': ['PC Parts', 'Video Cards'], 'Basic video cards': ['PC Parts', 'Video Cards']}\n"
   ]
  },
  {
   "cell_type": "markdown",
   "id": "f303b11f",
   "metadata": {},
   "source": [
    "- Initialize an empty dictionary called new_dictionary.\n",
    "\n",
    "- The outer for loop iterates through each resource_group and its associated resources in the resource_dictionary items.\n",
    "\n",
    "- The inner for loop iterates over each resource value in the list of resources for one resource_group key at a time.\n",
    "\n",
    "- The if-statement checks if the current resource value has been appended as a key to the new_dictionary yet.\n",
    "\n",
    "- If the resource already exists in new_dictionary, it means this resource belongs to multiple categories. In that case, the function appends the current resource_group as a value to the existing key (resource) in the new_dictionary.\n",
    "\n",
    "- If the resource does not exist in new_dictionary, it means this is the first time we encountered this resource. In that case, the function adds the resource as a new key to the new_dictionary and sets its value to a list containing the current resource_group.\n",
    "\n",
    "- The function continues to iterate through all the resource_groups and their associated resources, updating new_dictionary accordingly.\n",
    "\n",
    "- Finally, the function returns the new_dictionary once the outer for loop has completed all iterations."
   ]
  },
  {
   "cell_type": "markdown",
   "id": "9227ab0c",
   "metadata": {},
   "source": [
    "Write a Python function called count_characters that takes a string as input and returns a dictionary containing the count of each character (case-insensitive) present in the string. The keys of the dictionary should be the unique characters in the string, and the corresponding values should be the count of each character in the string.\n",
    "\n",
    "For example:\n",
    "\n",
    "- Input: \"hello\"\n",
    "\n",
    "- Output: {'h': 1, 'e': 1, 'l': 2, 'o': 1}"
   ]
  },
  {
   "cell_type": "code",
   "execution_count": null,
   "id": "4f663983",
   "metadata": {},
   "outputs": [],
   "source": [
    "\n",
    "\n",
    "# Test cases\n",
    "print(count_characters(\"hello\"))          # Output: {'h': 1, 'e': 1, 'l': 2, 'o': 1}\n",
    "print(count_characters(\"Mississippi\"))    # Output: {'m': 1, 'i': 4, 's': 4, 'p': 2}\n",
    "print(count_characters(\"Python is fun\"))  # Output: {'p': 1, 'y': 1, 't': 1, 'h': 1, 'o': 1, 'n': 2, ' ': 2, 'i': 1, 's': 1, 'f': 1, 'u': 1}\n"
   ]
  },
  {
   "cell_type": "code",
   "execution_count": null,
   "id": "922c4ce7",
   "metadata": {},
   "outputs": [],
   "source": []
  }
 ],
 "metadata": {
  "kernelspec": {
   "display_name": "Python 3 (ipykernel)",
   "language": "python",
   "name": "python3"
  },
  "language_info": {
   "codemirror_mode": {
    "name": "ipython",
    "version": 3
   },
   "file_extension": ".py",
   "mimetype": "text/x-python",
   "name": "python",
   "nbconvert_exporter": "python",
   "pygments_lexer": "ipython3",
   "version": "3.9.12"
  }
 },
 "nbformat": 4,
 "nbformat_minor": 5
}
