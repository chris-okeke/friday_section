{
 "cells": [
  {
   "cell_type": "markdown",
   "id": "8a9e9631",
   "metadata": {},
   "source": [
    "# Python week 1"
   ]
  },
  {
   "cell_type": "markdown",
   "id": "68d778ea",
   "metadata": {},
   "source": [
    "What is Programming ?\n",
    "\n",
    "Programming is the process of giving instructions to a computer to perform a specific task or solve a problem. It involves writing a series of commands or code using a programming language that the computer can understand and execute.\n",
    "\n",
    "Think of programming as a conversation between you and the computer. You provide a set of step-by-step instructions, and the computer follows those instructions to accomplish a particular goal.\n",
    "\n",
    "Just like we use natural languages like English to communicate with each other, programming languages are designed to communicate with computers. However, programming languages have a more precise and structured syntax to ensure the computer can understand and execute the instructions correctly.\n",
    "\n",
    "To write a program, you break down a problem into smaller, manageable steps, and then express those steps in the programming language of your choice. These steps might involve calculations, decision-making, repetition, and interaction with the computer's hardware or other software.\n",
    "\n",
    "Once you've written the program, you can run it, and the computer will execute the instructions, producing the desired output or performing the intended task. Programming allows you to automate tasks, create software applications, build websites, analyze data, and much more.\n",
    "\n",
    "Overall, programming is the art of writing instructions in a programming language to make computers do what you want them to do. It empowers you to solve problems and build a wide range of digital solutions."
   ]
  },
  {
   "cell_type": "markdown",
   "id": "d2acd8b0",
   "metadata": {},
   "source": [
    "What is automation?\n",
    "\n",
    "In the context of programming, automation typically involves writing scripts or programs that can perform tasks that would otherwise require manual effort. This can include tasks such as data processing, file management, report generation, system administration, testing, and more.\n",
    "\n",
    "Automation can be applied to various domains, including software development, data analysis, system administration, network management, and even everyday tasks like scheduling, email management, or data entry.\n",
    "\n",
    "By automating repetitive tasks, programmers and other professionals can focus on more complex or creative aspects of their work, leading to increased productivity and improved results.\n",
    "\n",
    "Overall, automation is a powerful concept in programming that enables the execution of tasks or processes automatically, freeing up human resources for more valuable work and improving overall productivity."
   ]
  },
  {
   "cell_type": "markdown",
   "id": "affafb9c",
   "metadata": {},
   "source": [
    "Python is a popular programming language. It was created by Guido van Rossum, and released in 1991.\n",
    "\n",
    "It is used for:\n",
    "\n",
    "- web development (server-side),\n",
    "- software development,\n",
    "- mathematics,\n",
    "- system scripting."
   ]
  },
  {
   "cell_type": "markdown",
   "id": "3639aae5",
   "metadata": {},
   "source": [
    "What can Python do?\n",
    "\n",
    "- Python can be used on a server to create web applications.\n",
    "- Python can be used alongside software to create workflows.\n",
    "- Python can connect to database systems. It can also read and modify files.\n",
    "- Python can be used to handle big data and perform complex mathematics.\n",
    "- Python can be used for rapid prototyping, or for production-ready software development."
   ]
  },
  {
   "cell_type": "markdown",
   "id": "a2171b98",
   "metadata": {},
   "source": [
    "Why Python?\n",
    "\n",
    "- Python works on different platforms (Windows, Mac, Linux, Raspberry Pi, etc).\n",
    "- Python has a simple syntax similar to the English language.\n",
    "- Python has syntax that allows developers to write programs with fewer lines than some other programming languages.\n",
    "- Python runs on an interpreter system, meaning that code can be executed as soon as it is written. This means that prototyping can be very quick.\n",
    "- Python can be treated in a procedural way, an object-oriented way or a functional way."
   ]
  },
  {
   "cell_type": "markdown",
   "id": "ee6b292b",
   "metadata": {},
   "source": [
    "You can install python on your machine using the below link:\n",
    "    \n",
    "https://www.python.org/downloads/release/python-3114/"
   ]
  },
  {
   "cell_type": "markdown",
   "id": "733c5d39",
   "metadata": {},
   "source": [
    "Also, you can download anaconda on your machine with below link:\n",
    "\n",
    "https://www.anaconda.com/"
   ]
  },
  {
   "cell_type": "markdown",
   "id": "a38a71f6",
   "metadata": {},
   "source": [
    "Python is widely used in the IT field, including IT support, system administration, web development, machine learning, data analytics, and more. Python can be used to calculate statistics, run your e-commerce site, process images, interact with web services, and do a whole host of other tasks. Python instructions resemble the English language, which is what makes it easier to learn and understand when compared to other programming languages.\n",
    "\n",
    "Python is:\n",
    "\n",
    "- a general purpose scripting language;\n",
    "\n",
    "- a popular language used to code a variety of applications;\n",
    "\n",
    "- a frequently used tool for automation;\n",
    "\n",
    "- a cross-platform compatible language;\n",
    "\n",
    "- a beginner-friendly language."
   ]
  },
  {
   "cell_type": "markdown",
   "id": "9cebb9de",
   "metadata": {},
   "source": [
    "Now that you've got an idea of what Python code looks like, let's check out one of the most basic examples and dive deeper into what's going on."
   ]
  },
  {
   "cell_type": "code",
   "execution_count": null,
   "id": "cbf6160c",
   "metadata": {},
   "outputs": [],
   "source": [
    "print(\"Hello World!\")"
   ]
  },
  {
   "cell_type": "markdown",
   "id": "4a0bbac8",
   "metadata": {},
   "source": [
    "Print is a Python function that writes what we tell it to on the screen. Like the statement hello world for example, the print function is part of the basic Python language, whenever we use keywords or functions that are part of the language, we're using the programming language's syntax to tell the computer what to do."
   ]
  },
  {
   "cell_type": "markdown",
   "id": "5709857e",
   "metadata": {},
   "source": [
    "So what are functions and keywords? "
   ]
  },
  {
   "cell_type": "markdown",
   "id": "f5e28166",
   "metadata": {},
   "source": [
    "Functions are pieces of code that perform a unit of work. We'll talk a lot more about functions later on, and you'll even learn how to write your own. Keywords are reserved words that are used to construct instructions. These words are the core part of the language and can only be used in specific ways. Some examples include if, while, and for. We'll explain all of those and a bunch more later in the course."
   ]
  },
  {
   "cell_type": "markdown",
   "id": "6ac39931",
   "metadata": {},
   "source": [
    "Wrapping text in quotation marks indicates that the text is considered a string, which means it's text that will be manipulated by our script. In programming, any text that isn't inside quotation marks is considered part of the code."
   ]
  },
  {
   "cell_type": "markdown",
   "id": "4df0a61e",
   "metadata": {},
   "source": [
    "# Arithmetic operators"
   ]
  },
  {
   "cell_type": "markdown",
   "id": "01bf8baa",
   "metadata": {},
   "source": [
    "Python can calculate numbers using common mathematical operators, along with some special operators, too:  \n",
    "\n",
    "- x + y            Addition + operator returns the sum of x plus y\n",
    "- x - y             Subtraction - operator returns the difference of x minus y\n",
    "- x * y            Multiplication * operator returns the product of x times y\n",
    "- x / y             Division / operator returns the quotient of x divided by y\n",
    "- x**e            Exponent ** operator returns the result of raising x to the power of e \n",
    "- x**2            Square expression returns x squared\n",
    "- x**3            Cube expression returns x cubed\n",
    "- x**(1/2)    Square root (½) or (0.5) fractional exponent operator returns the square root of x\n",
    "- x // y           Floor division operator returns the integer part of the integer division of x by y\n",
    "- x % y          Modulo operator returns the remainder part of the integer division of x by y"
   ]
  },
  {
   "cell_type": "code",
   "execution_count": 36,
   "id": "aacda114",
   "metadata": {},
   "outputs": [
    {
     "name": "stdout",
     "output_type": "stream",
     "text": [
      "5\n"
     ]
    }
   ],
   "source": [
    "print(1+4)"
   ]
  },
  {
   "cell_type": "code",
   "execution_count": 37,
   "id": "e02dfefc",
   "metadata": {},
   "outputs": [
    {
     "name": "stdout",
     "output_type": "stream",
     "text": [
      "2500\n"
     ]
    }
   ],
   "source": [
    "print(100 * 25)"
   ]
  },
  {
   "cell_type": "code",
   "execution_count": 38,
   "id": "df70bf72",
   "metadata": {},
   "outputs": [
    {
     "name": "stdout",
     "output_type": "stream",
     "text": [
      "-4.0\n"
     ]
    }
   ],
   "source": [
    "print(-1/0.25)"
   ]
  },
  {
   "cell_type": "code",
   "execution_count": 39,
   "id": "963f7385",
   "metadata": {},
   "outputs": [
    {
     "name": "stdout",
     "output_type": "stream",
     "text": [
      "0\n"
     ]
    }
   ],
   "source": [
    "print(10 % 2)"
   ]
  },
  {
   "cell_type": "markdown",
   "id": "591dfb51",
   "metadata": {},
   "source": [
    "# Python Data Types"
   ]
  },
  {
   "cell_type": "markdown",
   "id": "8052a648",
   "metadata": {},
   "source": [
    "In programming, data type is an important concept.\n",
    "\n",
    "Variables can store data of different types, and different types can do different things.\n",
    "\n",
    "Python has the following data types built-in by default, in these categories:"
   ]
  },
  {
   "cell_type": "markdown",
   "id": "5190ba33",
   "metadata": {},
   "source": [
    "- Text Type:\tstr\n",
    "- Numeric Types:\tint, float\n",
    "- Sequence Types:\tlist, tuple, range\n",
    "- Mapping Type:\tdict\n",
    "- Boolean Type:\tbool\n",
    "- Binary Types:\tbytes, bytearray, memoryview"
   ]
  },
  {
   "cell_type": "code",
   "execution_count": 1,
   "id": "0eca1414",
   "metadata": {},
   "outputs": [
    {
     "name": "stdout",
     "output_type": "stream",
     "text": [
      "10\n"
     ]
    }
   ],
   "source": [
    "print(7+3)"
   ]
  },
  {
   "cell_type": "code",
   "execution_count": 2,
   "id": "c6857b78",
   "metadata": {},
   "outputs": [
    {
     "data": {
      "text/plain": [
       "5"
      ]
     },
     "execution_count": 2,
     "metadata": {},
     "output_type": "execute_result"
    }
   ],
   "source": [
    "len(\"Hello\")"
   ]
  },
  {
   "cell_type": "code",
   "execution_count": 3,
   "id": "26adcd09",
   "metadata": {},
   "outputs": [
    {
     "name": "stdout",
     "output_type": "stream",
     "text": [
      "HelloWorld\n"
     ]
    }
   ],
   "source": [
    "print(\"Hello\" + \"World\")"
   ]
  },
  {
   "cell_type": "code",
   "execution_count": 4,
   "id": "bdea446b",
   "metadata": {},
   "outputs": [
    {
     "ename": "TypeError",
     "evalue": "unsupported operand type(s) for +: 'float' and 'str'",
     "output_type": "error",
     "traceback": [
      "\u001b[0;31m---------------------------------------------------------------------------\u001b[0m",
      "\u001b[0;31mTypeError\u001b[0m                                 Traceback (most recent call last)",
      "Input \u001b[0;32mIn [4]\u001b[0m, in \u001b[0;36m<cell line: 1>\u001b[0;34m()\u001b[0m\n\u001b[0;32m----> 1\u001b[0m \u001b[38;5;28mprint\u001b[39m(\u001b[38;5;241;43m7.5\u001b[39;49m\u001b[43m \u001b[49m\u001b[38;5;241;43m+\u001b[39;49m\u001b[43m \u001b[49m\u001b[38;5;124;43m\"\u001b[39;49m\u001b[38;5;124;43mHello\u001b[39;49m\u001b[38;5;124;43m\"\u001b[39;49m)\n",
      "\u001b[0;31mTypeError\u001b[0m: unsupported operand type(s) for +: 'float' and 'str'"
     ]
    }
   ],
   "source": [
    "print(7.5 + \"Hello\")"
   ]
  },
  {
   "cell_type": "markdown",
   "id": "fd287e78",
   "metadata": {},
   "source": [
    "In Python, text in between quotes -- either single or double quotes -- is a string data type. An integer is a whole number, without a fraction, while a float is a real number that can contain a fractional part. For example, 1, 7, 342 are all integers, while 5.3, 3.14159 and 6.0 are all floats. When attempting to mix incompatible data types, you may encounter a TypeError. You can always check the data type of something using the type() function."
   ]
  },
  {
   "cell_type": "code",
   "execution_count": 5,
   "id": "c8c1f46d",
   "metadata": {},
   "outputs": [
    {
     "data": {
      "text/plain": [
       "str"
      ]
     },
     "execution_count": 5,
     "metadata": {},
     "output_type": "execute_result"
    }
   ],
   "source": [
    "type(\"Hello\")"
   ]
  },
  {
   "cell_type": "code",
   "execution_count": 6,
   "id": "703f7bc4",
   "metadata": {},
   "outputs": [
    {
     "data": {
      "text/plain": [
       "int"
      ]
     },
     "execution_count": 6,
     "metadata": {},
     "output_type": "execute_result"
    }
   ],
   "source": [
    "type(7)"
   ]
  },
  {
   "cell_type": "markdown",
   "id": "5cc4e24b",
   "metadata": {},
   "source": [
    "# Variables"
   ]
  },
  {
   "cell_type": "markdown",
   "id": "9f699631",
   "metadata": {},
   "source": [
    "Variables are names that we give to certain values in our programs. Those values can be of any data type; numbers, strings or even the results of operations."
   ]
  },
  {
   "cell_type": "markdown",
   "id": "5272eaf1",
   "metadata": {},
   "source": [
    "Think of variables as containers for data. When you create a variable in your code, your computer reserves a chunk of its own memory to store that value. This lets the computer access the variable later to read or modify the value."
   ]
  },
  {
   "cell_type": "code",
   "execution_count": 13,
   "id": "d22ccead",
   "metadata": {},
   "outputs": [
    {
     "name": "stdout",
     "output_type": "stream",
     "text": [
      "3500\n"
     ]
    }
   ],
   "source": [
    "lenght = 50\n",
    "width = 70\n",
    "area = lenght * width\n",
    "print(area)"
   ]
  },
  {
   "cell_type": "code",
   "execution_count": 9,
   "id": "2b60da65",
   "metadata": {},
   "outputs": [
    {
     "name": "stdout",
     "output_type": "stream",
     "text": [
      "22\n"
     ]
    }
   ],
   "source": [
    "base = 12\n",
    "height = 10\n",
    "area = base + height\n",
    "print(area)"
   ]
  },
  {
   "cell_type": "markdown",
   "id": "696f829a",
   "metadata": {},
   "source": [
    "Variables are important in programming because they let you perform operations on data that may change. For example, if we extended our rectangle script to accept any input as the value of the length and width variables, we could calculate the area of a rectangle of any size "
   ]
  },
  {
   "cell_type": "markdown",
   "id": "17d939b5",
   "metadata": {},
   "source": [
    "# Expressions, Numbers, and Type Conversions\n"
   ]
  },
  {
   "cell_type": "code",
   "execution_count": 14,
   "id": "4b004fb8",
   "metadata": {},
   "outputs": [
    {
     "name": "stdout",
     "output_type": "stream",
     "text": [
      "11.5\n"
     ]
    }
   ],
   "source": [
    "print(7 + 4.5)"
   ]
  },
  {
   "cell_type": "markdown",
   "id": "388174a3",
   "metadata": {},
   "source": [
    "Behind the scenes the computer is busy automatically converting our integer seven into a float seven. This lets Python then add together the values to return a result that is also a float. We call this process implicit conversion. The interpreter automatically converts one data type into another. Python operations aren't just restricted to numbers."
   ]
  },
  {
   "cell_type": "code",
   "execution_count": 22,
   "id": "626c9a72",
   "metadata": {},
   "outputs": [
    {
     "name": "stdout",
     "output_type": "stream",
     "text": [
      "The area of the triangle is = 18\n"
     ]
    }
   ],
   "source": [
    "base = 6\n",
    "height = 3\n",
    "area = base * height\n",
    "print(\"The area of the triangle is = \" + str(area))"
   ]
  },
  {
   "cell_type": "code",
   "execution_count": 26,
   "id": "69e83bd4",
   "metadata": {},
   "outputs": [],
   "source": [
    "a = 10"
   ]
  },
  {
   "cell_type": "code",
   "execution_count": 27,
   "id": "b5813b62",
   "metadata": {},
   "outputs": [
    {
     "data": {
      "text/plain": [
       "int"
      ]
     },
     "execution_count": 27,
     "metadata": {},
     "output_type": "execute_result"
    }
   ],
   "source": [
    "type(a)"
   ]
  },
  {
   "cell_type": "code",
   "execution_count": 28,
   "id": "bdbaa226",
   "metadata": {},
   "outputs": [
    {
     "data": {
      "text/plain": [
       "10.0"
      ]
     },
     "execution_count": 28,
     "metadata": {},
     "output_type": "execute_result"
    }
   ],
   "source": [
    "float(a)"
   ]
  },
  {
   "cell_type": "markdown",
   "id": "96e471e1",
   "metadata": {},
   "source": [
    "Implicit conversion is where the interpreter helps us out and automatically converts one data type into another, without having to explicitly tell it to do so.\n",
    "\n",
    "By contrast, explicit conversion is where we manually convert from one data type to another by calling the relevant function for the data type we want to convert to."
   ]
  },
  {
   "cell_type": "markdown",
   "id": "b6a076df",
   "metadata": {},
   "source": [
    "# Expressions and Variables (overview)"
   ]
  },
  {
   "cell_type": "markdown",
   "id": "ace8fefa",
   "metadata": {},
   "source": [
    "- expression - a combination of numbers, symbols, or other values that produce a result when evaluated\n",
    "\n",
    "- data types - classes of data (e.g., string, int, float, Boolean, etc.), which include the properties and behaviors of instances of the data type (variables)\n",
    "\n",
    "- variable - an instance of a data type class, represented by a unique name within the code, that stores changeable values of the specific data type\n",
    "\n",
    "- implicit conversion - when the Python interpreter automatically converts one data type to another\n",
    "\n",
    "- explicit conversion - when code is written to manually convert one data type to another using a data type conversion function:\n",
    "\n",
    "- str() - converts a value (often numeric) to a string data type\n",
    "\n",
    "- int() - converts a value (usually a float) to an integer data type\n",
    "\n",
    "- float() - converts a value (usually an integer) to a float data type"
   ]
  },
  {
   "cell_type": "code",
   "execution_count": 29,
   "id": "92b44e4a",
   "metadata": {},
   "outputs": [
    {
     "name": "stdout",
     "output_type": "stream",
     "text": [
      "Each person needs to pay = 27.0\n"
     ]
    }
   ],
   "source": [
    "# The following lines assign the variable to the left of the = \n",
    "# assignment operator with the values and arithmetic expressions \n",
    "# on the right side of the = assignment operator.\n",
    "hotel_room = 100\n",
    "tax = hotel_room * 0.08\n",
    "total = hotel_room + tax\n",
    "room_guests = 4\n",
    "share_per_person = total / room_guests\n",
    "\n",
    "\n",
    "# This line outputs the result of the final calculation stored\n",
    "# in the variable \"share_per_person\"\n",
    "print(\"Each person needs to pay = \" + str(share_per_person))"
   ]
  },
  {
   "cell_type": "code",
   "execution_count": 34,
   "id": "512d554d",
   "metadata": {},
   "outputs": [
    {
     "name": "stdout",
     "output_type": "stream",
     "text": [
      "Dr. Prisha Jai Agarwal (Ph.D.)\n",
      "Dr. Prisha Jai Agarwal (Ph.D.)\n"
     ]
    }
   ],
   "source": [
    "# The following 5 lines assign strings to a list of variables.\n",
    "salutation = \"Dr.\"\n",
    "first_name = \"Prisha\"\n",
    "middle_name = \"Jai\"\n",
    "last_name = \"Agarwal\"\n",
    "suffix = \"(Ph.D.)\"\n",
    "\n",
    "a = salutation + \" \" + first_name + \" \" + middle_name + \" \" + last_name + \" \" + suffix\n",
    "# The comma as a string \", \" adds the conventional use of a comma plus a\n",
    "# space to separate the last name from the suffix.\n",
    "print(a)\n",
    "# Alternatively, you could use commas in place of the + connector:\n",
    "print(salutation, first_name, middle_name, last_name, suffix)\n",
    "# However, you will find that this produces a space before a comma within a string."
   ]
  },
  {
   "cell_type": "code",
   "execution_count": 35,
   "id": "78d4f27d",
   "metadata": {},
   "outputs": [
    {
     "name": "stdout",
     "output_type": "stream",
     "text": [
      "5 * 3 = 15\n"
     ]
    }
   ],
   "source": [
    "print(\"5 * 3 = \" + str(5*3))\n",
    "# Resolution: \n",
    "# print(\"5 * 3 = \" + str(5*3))\n",
    "#\n",
    "# To avoid a type error between the string and the integer within the\n",
    "# print() function, you can make an explicit data type conversion by\n",
    "# using the str() function to convert the integer to a string."
   ]
  },
  {
   "cell_type": "markdown",
   "id": "076e8af7",
   "metadata": {},
   "source": [
    "# Quiz"
   ]
  },
  {
   "cell_type": "markdown",
   "id": "b48e9fa0",
   "metadata": {},
   "source": [
    "the code is supposed to display \"2+2=4\""
   ]
  },
  {
   "cell_type": "code",
   "execution_count": 110,
   "id": "2c83f7fc",
   "metadata": {},
   "outputs": [
    {
     "name": "stdout",
     "output_type": "stream",
     "text": [
      "2 + 2 = 4\n"
     ]
    }
   ],
   "source": [
    "print(\"2 + 2 = \" + str(2+2))"
   ]
  },
  {
   "cell_type": "markdown",
   "id": "635d044a",
   "metadata": {},
   "source": [
    "In this scenario, two friends are eating dinner at a restaurant. The bill comes in the amount of 47.28 dollars. The friends decide to split the bill evenly between them, after adding 15% tip for the service. Calculate the tip, the total amount to pay, and each friend's share, then output a message saying \"Each person needs to pay: \" followed by the resulting number."
   ]
  },
  {
   "cell_type": "code",
   "execution_count": 111,
   "id": "303a0dfd",
   "metadata": {},
   "outputs": [
    {
     "name": "stdout",
     "output_type": "stream",
     "text": [
      "Each person needs to pay: $27.186\n"
     ]
    }
   ],
   "source": [
    "bill = 47.28  # Assign \"bill\" variable with bill amount\n",
    "tip_rate = 0.15  # Tip rate as a decimal (15% = 0.15)\n",
    "tip = bill * tip_rate  # Multiply \"bill\" by tip rate to calculate the tip\n",
    "total = bill + tip  # Sum \"bill\" and \"tip\" to calculate the total amount to pay\n",
    "num_friends = 2  # Number of friends dining\n",
    "share = total / num_friends  # Divide \"total\" by number of friends to calculate each friend's share\n",
    "\n",
    "print(\"Each person needs to pay: $\" + str(share))  # Output the message with the calculated share, converted to string"
   ]
  },
  {
   "cell_type": "markdown",
   "id": "973ccb63",
   "metadata": {},
   "source": [
    "This code is supposed to take two numbers, divide one by another so that the result is equal to 1, and display the result on the screen. Unfortunately, there is an error in the code. Find the error and fix it, so that the output is correct."
   ]
  },
  {
   "cell_type": "code",
   "execution_count": 112,
   "id": "54d9eb37",
   "metadata": {},
   "outputs": [
    {
     "name": "stdout",
     "output_type": "stream",
     "text": [
      "1.0\n"
     ]
    }
   ],
   "source": [
    "numerator = 10.0\n",
    "denominator = 10.0\n",
    "result = numerator / denominator\n",
    "print(result)"
   ]
  },
  {
   "cell_type": "markdown",
   "id": "6889fc82",
   "metadata": {},
   "source": [
    "Combine the variables to display the sentence \"How do you like Python so far?\""
   ]
  },
  {
   "cell_type": "code",
   "execution_count": 114,
   "id": "59467f03",
   "metadata": {},
   "outputs": [
    {
     "name": "stdout",
     "output_type": "stream",
     "text": [
      "How do you like Python so far?\n",
      "How do you like Python so far?\n"
     ]
    }
   ],
   "source": [
    "word1 = \"How\"\n",
    "word2 = \"do\"\n",
    "word3 = \"you\"\n",
    "word4 = \"like\"\n",
    "word5 = \"Python\"\n",
    "word6 = \"so\"\n",
    "word7 = \"far?\"\n",
    "\n",
    "print(word1, word2, word3, word4, word5, word6, word7)\n",
    "print(word1 + \" \" + word2 + \" \" + word3 + \" \" + word4 + \" \" + word5 + \" \" + word6 + \" \" + word7)"
   ]
  },
  {
   "cell_type": "markdown",
   "id": "18dee878",
   "metadata": {},
   "source": [
    "What do you call a combination of numbers, symbols, or other values that produce a result when evaluated?"
   ]
  },
  {
   "cell_type": "markdown",
   "id": "e4cfd69a",
   "metadata": {},
   "source": [
    "Expression"
   ]
  },
  {
   "cell_type": "markdown",
   "id": "518dd05b",
   "metadata": {},
   "source": [
    "# Functions"
   ]
  },
  {
   "cell_type": "markdown",
   "id": "26d9935f",
   "metadata": {},
   "source": [
    "Python Functions is a block of statements that return the specific task. The idea is to put some commonly or repeatedly done tasks together and make a function so that instead of writing the same code again and again for different inputs, we can do the function calls to reuse code contained in it over and over again.\n",
    "\n",
    "Some Benefits of Using Functions\n",
    "\n",
    "- Increase Code Readability \n",
    "- Increase Code Reusability"
   ]
  },
  {
   "cell_type": "markdown",
   "id": "31cb126d",
   "metadata": {},
   "source": [
    "We start a function definition with the def keyword, followed by the name we want to give our function. After the name, we have the parameters, also called arguments, for the function enclosed in parentheses. A function can have no parameters, or it can have multiple parameters. Parameters allow us to call a function and pass it data, with the data being available inside the function as variables with the same name as the parameters. Lastly, we put a colon at the end of the line.\n",
    "\n",
    "After the colon, the function body starts. "
   ]
  },
  {
   "cell_type": "code",
   "execution_count": 40,
   "id": "0265936e",
   "metadata": {},
   "outputs": [],
   "source": [
    "def first_function():\n",
    "    print(\"Welcome to Jifunz!\")"
   ]
  },
  {
   "cell_type": "code",
   "execution_count": 41,
   "id": "0251f7e7",
   "metadata": {},
   "outputs": [
    {
     "name": "stdout",
     "output_type": "stream",
     "text": [
      "Welcome to Jifunz!\n"
     ]
    }
   ],
   "source": [
    "first_function()"
   ]
  },
  {
   "cell_type": "code",
   "execution_count": 69,
   "id": "975c909b",
   "metadata": {},
   "outputs": [],
   "source": [
    "def multiply(number1, number2):\n",
    "    print(number1 * number2)"
   ]
  },
  {
   "cell_type": "code",
   "execution_count": 70,
   "id": "fdc48ef0",
   "metadata": {},
   "outputs": [
    {
     "name": "stdout",
     "output_type": "stream",
     "text": [
      "120\n"
     ]
    }
   ],
   "source": [
    "a = multiply(number1 = 10, number2 = 12)"
   ]
  },
  {
   "cell_type": "code",
   "execution_count": 71,
   "id": "94911519",
   "metadata": {},
   "outputs": [
    {
     "name": "stdout",
     "output_type": "stream",
     "text": [
      "1440\n"
     ]
    }
   ],
   "source": [
    "b = multiply(number1 = 45, number2 = 32)"
   ]
  },
  {
   "cell_type": "code",
   "execution_count": 72,
   "id": "7fc748f0",
   "metadata": {},
   "outputs": [
    {
     "name": "stdout",
     "output_type": "stream",
     "text": [
      "None\n"
     ]
    }
   ],
   "source": [
    "print(a)"
   ]
  },
  {
   "cell_type": "code",
   "execution_count": 50,
   "id": "c24011ea",
   "metadata": {},
   "outputs": [],
   "source": [
    "def greetings(name):\n",
    "    print(\"Welcome to Jifunz! \" + name)"
   ]
  },
  {
   "cell_type": "code",
   "execution_count": 51,
   "id": "cabd87cc",
   "metadata": {},
   "outputs": [
    {
     "name": "stdout",
     "output_type": "stream",
     "text": [
      "Welcome to Jifunz! John\n"
     ]
    }
   ],
   "source": [
    "greetings(name = \"John\")"
   ]
  },
  {
   "cell_type": "code",
   "execution_count": 52,
   "id": "e24d1a08",
   "metadata": {},
   "outputs": [],
   "source": [
    "def third_function(name, departments, age):\n",
    "    print(\"Welcome to our company, \" + name)\n",
    "    print(\"Your department is going to be = \" + departments)\n",
    "    print(\"Your age = \" + str(age))"
   ]
  },
  {
   "cell_type": "code",
   "execution_count": 53,
   "id": "040dc8ef",
   "metadata": {},
   "outputs": [
    {
     "name": "stdout",
     "output_type": "stream",
     "text": [
      "Welcome to our company, John\n",
      "Your department is going to be = IT\n",
      "Your age = 27\n"
     ]
    }
   ],
   "source": [
    "third_function(\"John\", \"IT\", 27)"
   ]
  },
  {
   "cell_type": "code",
   "execution_count": 57,
   "id": "2fa8a98d",
   "metadata": {},
   "outputs": [
    {
     "name": "stdout",
     "output_type": "stream",
     "text": [
      "Welcome to our company, John\n",
      "Your department is going to be = IT\n",
      "Your age = 27\n"
     ]
    }
   ],
   "source": [
    "third_function(name = \"John\", age = 27, departments = \"IT\")"
   ]
  },
  {
   "cell_type": "markdown",
   "id": "e4914a28",
   "metadata": {},
   "source": [
    "Sometimes we don't want a function to simply run and finish. We may want a function to manipulate data we passed it and then return the result to us. This is where the concept of return values comes in handy. We use the return keyword in a function, which tells the function to pass data back. When we call the function, we can store the returned value in a variable. Return values allow our functions to be more flexible and powerful, so they can be reused and called multiple times."
   ]
  },
  {
   "cell_type": "code",
   "execution_count": 61,
   "id": "801b0053",
   "metadata": {},
   "outputs": [],
   "source": [
    "def area_triangle(base, height):\n",
    "    return base * height / 2"
   ]
  },
  {
   "cell_type": "code",
   "execution_count": 62,
   "id": "11a42692",
   "metadata": {},
   "outputs": [
    {
     "name": "stdout",
     "output_type": "stream",
     "text": [
      "41.0\n"
     ]
    }
   ],
   "source": [
    "area_a = area_triangle(10, 4)\n",
    "area_b = area_triangle(7, 6)\n",
    "sum_area = area_a + area_b\n",
    "print(sum_area)"
   ]
  },
  {
   "cell_type": "code",
   "execution_count": 73,
   "id": "dd1a8030",
   "metadata": {},
   "outputs": [
    {
     "name": "stdout",
     "output_type": "stream",
     "text": [
      "Welcome , Kay Your lucky name is = 27\n"
     ]
    }
   ],
   "source": [
    "name = \"Kay\"\n",
    "number = len(name) * 9\n",
    "print(\"Welcome , \" + name + \" \" + \"Your lucky name is = \" + str(number))"
   ]
  },
  {
   "cell_type": "code",
   "execution_count": 78,
   "id": "5f1c32eb",
   "metadata": {},
   "outputs": [],
   "source": [
    "def lucky_number(name):\n",
    "    number = len(name) * 9\n",
    "    return \"Welcome , \" + name + \" \" + \"Your lucky name is = \" + str(number)"
   ]
  },
  {
   "cell_type": "code",
   "execution_count": 81,
   "id": "7539b7d5",
   "metadata": {},
   "outputs": [],
   "source": [
    "a = lucky_number(\"John\")"
   ]
  },
  {
   "cell_type": "code",
   "execution_count": 82,
   "id": "b02a86ec",
   "metadata": {},
   "outputs": [
    {
     "name": "stdout",
     "output_type": "stream",
     "text": [
      "Welcome , John Your lucky name is = 36\n"
     ]
    }
   ],
   "source": [
    "print(a)"
   ]
  },
  {
   "cell_type": "code",
   "execution_count": 80,
   "id": "68bb5d94",
   "metadata": {},
   "outputs": [
    {
     "data": {
      "text/plain": [
       "'Welcome , Suzia Your lucky name is = 45'"
      ]
     },
     "execution_count": 80,
     "metadata": {},
     "output_type": "execute_result"
    }
   ],
   "source": [
    "lucky_number(\"Suzia\")"
   ]
  },
  {
   "cell_type": "markdown",
   "id": "4738775a",
   "metadata": {},
   "source": [
    "# Functions (Overview)"
   ]
  },
  {
   "cell_type": "markdown",
   "id": "b26cb13f",
   "metadata": {},
   "source": [
    "Terms\n",
    "\n",
    "- return value - the value or variable returned as the end result of a function\n",
    "\n",
    "- parameter (argument) -  a value passed into a function for use within the function\n",
    "\n",
    "- refactoring code - a process to restructure code without changing functionality\n",
    "\n",
    "\n",
    "Knowledge\n",
    "\n",
    "- The purpose of the def() keyword is to define a new function. \n",
    "\n",
    "Best practices for writing code that is readable and reusable:\n",
    "\n",
    "- Create a reusable function - Replace duplicate code with one reusable function to make the code easier to read and repurpose.\n",
    "\n",
    "- Refactor code - Update code so that it is self-documenting and the intent of the code is clear.\n",
    "\n",
    "- Add comments - Adding comments is part of creating self-documenting code. Using comments allows you to leave notes to yourself and/or other programmers to make the purpose of the code clear."
   ]
  },
  {
   "cell_type": "markdown",
   "id": "a7b8bf0d",
   "metadata": {},
   "source": [
    "- Use a function that accepts multiple parameters\n",
    "\n",
    "- Return a result value"
   ]
  },
  {
   "cell_type": "code",
   "execution_count": 123,
   "id": "ce9a31c8",
   "metadata": {},
   "outputs": [],
   "source": [
    "# This function calculates the number of days in a variable number of \n",
    "# years, months, and days. These variables are provided by the user and\n",
    "# are passed to the function through the function’s parameters.\n",
    "def find_total_days(years, months, days):\n",
    "# Assign a variable to hold the calculations for the number of days in\n",
    "# a year (years*365) plus the number of days in a month (months*30) plus\n",
    "# the number of days provided through the \"days\" parameter variable.\n",
    "    my_day = (years * 365) + (months * 30) + days\n",
    "# Use the \"return\" keyword to send the result of the \"my_days\"  \n",
    "# calculation to the function call.\n",
    "    return my_day\n",
    "# Function call with user provided parameter values. "
   ]
  },
  {
   "cell_type": "code",
   "execution_count": 124,
   "id": "c2c4612e",
   "metadata": {},
   "outputs": [
    {
     "name": "stdout",
     "output_type": "stream",
     "text": [
      "903\n"
     ]
    }
   ],
   "source": [
    "print(find_total_days(2,5,23))"
   ]
  },
  {
   "cell_type": "code",
   "execution_count": 125,
   "id": "c42a523f",
   "metadata": {},
   "outputs": [],
   "source": [
    "a = find_total_days(2,5,23)"
   ]
  },
  {
   "cell_type": "code",
   "execution_count": 126,
   "id": "997d6dec",
   "metadata": {},
   "outputs": [
    {
     "name": "stdout",
     "output_type": "stream",
     "text": [
      "903\n"
     ]
    }
   ],
   "source": [
    "print(a)"
   ]
  },
  {
   "cell_type": "code",
   "execution_count": 127,
   "id": "d886db58",
   "metadata": {},
   "outputs": [
    {
     "name": "stdout",
     "output_type": "stream",
     "text": [
      "The volume in millimeters is 59.0\n",
      "The volume in millimeters is 118.0\n"
     ]
    }
   ],
   "source": [
    "# This function converts fluid ounces to milliliters and returns the \n",
    "# result of the conversion.\n",
    "def convert_volume(fluid_ounce):\n",
    "# Calculate value of the \"ml\" variable using the parameter variable \n",
    "# \"fluid_ounce\". There are approximately 29.5 milliliters in 1 fluid\n",
    "# ounce.\n",
    "    ml = fluid_ounce * 29.5\n",
    "# Return the result of the calculation.  \n",
    "    return ml\n",
    "# Call the conversion from within the print() function using 2 fluid \n",
    "# ounces. Convert the return value from a float to a string.  \n",
    "print(\"The volume in millimeters is \" + str(convert_volume(2)))\n",
    " \n",
    "# Call the function again and double the 2 fluid ounces from within\n",
    "# the print function.\n",
    "print(\"The volume in millimeters is \" + str(convert_volume(2) * 2))\n",
    "# Alternative calculation:\n",
    "# print(\"The volume in millimeters is \" + str(convert_volume(4))"
   ]
  },
  {
   "cell_type": "code",
   "execution_count": 128,
   "id": "2bb03798",
   "metadata": {},
   "outputs": [
    {
     "name": "stdout",
     "output_type": "stream",
     "text": [
      "The distance in kilometers is 88.0\n",
      "The round-trip in kilometers is 176.0\n"
     ]
    }
   ],
   "source": [
    "# 1) Complete the function to return the result of the conversion\n",
    "def convert_distance(miles):\n",
    "    # approximately 1.6 km in 1 mile\n",
    "    km = miles * 1.6\n",
    "    return km\n",
    "\n",
    "# Do not indent any of the following lines of code as they are \n",
    "# meant to be located outside of the function above\n",
    "\n",
    "my_trip_miles = 55\n",
    "\n",
    "# 2) Convert my_trip_miles to kilometers by calling the function above\n",
    "my_trip_km = convert_distance(my_trip_miles)\n",
    "\n",
    "# 3) Fill in the blank to print the result of the my_trip_km conversion\n",
    "print(\"The distance in kilometers is \" + str(my_trip_km))\n",
    "\n",
    "# 4) Calculate the round-trip in kilometers by doubling the result of\n",
    "#    my_trip_km. Fill in the blank to print the result.\n",
    "print(\"The round-trip in kilometers is \" + str(my_trip_km * 2))"
   ]
  },
  {
   "cell_type": "code",
   "execution_count": 129,
   "id": "1fac8313",
   "metadata": {},
   "outputs": [
    {
     "name": "stdout",
     "output_type": "stream",
     "text": [
      "3723\n"
     ]
    }
   ],
   "source": [
    "def print_seconds(hours, minutes, seconds):\n",
    "    print(hours * (60*60) + minutes * 60 + seconds)\n",
    "\n",
    "\n",
    "print_seconds(1,2,3)\n",
    "#output will print to the screen"
   ]
  },
  {
   "cell_type": "code",
   "execution_count": 132,
   "id": "8040bd5a",
   "metadata": {},
   "outputs": [],
   "source": [
    "def print_name(name):\n",
    "    print(\"hello \" + name)"
   ]
  },
  {
   "cell_type": "code",
   "execution_count": 133,
   "id": "23722d01",
   "metadata": {},
   "outputs": [
    {
     "name": "stdout",
     "output_type": "stream",
     "text": [
      "hello John\n"
     ]
    }
   ],
   "source": [
    "print_name(\"John\")"
   ]
  },
  {
   "cell_type": "markdown",
   "id": "75d1f4ac",
   "metadata": {},
   "source": [
    "# Conditionals"
   ]
  },
  {
   "cell_type": "markdown",
   "id": "201ba989",
   "metadata": {},
   "source": [
    "Python can also compare values. This lets us check whether something is smaller than, equal to, or bigger than something else. This allows us to take the result of our expressions and use them to make decisions."
   ]
  },
  {
   "cell_type": "code",
   "execution_count": 85,
   "id": "42646247",
   "metadata": {},
   "outputs": [
    {
     "name": "stdout",
     "output_type": "stream",
     "text": [
      "True\n"
     ]
    }
   ],
   "source": [
    "print(10 > 1)"
   ]
  },
  {
   "cell_type": "markdown",
   "id": "19937966",
   "metadata": {},
   "source": [
    "True is a value that belongs to another data type called the Boolean. Booleans represent one of two possible states, either true or false. Every time you compare things in Python the result is a Boolean of the appropriate value. "
   ]
  },
  {
   "cell_type": "code",
   "execution_count": 86,
   "id": "89abd339",
   "metadata": {},
   "outputs": [
    {
     "name": "stdout",
     "output_type": "stream",
     "text": [
      "False\n"
     ]
    }
   ],
   "source": [
    "print(\"cat\" == \"dog\")"
   ]
  },
  {
   "cell_type": "code",
   "execution_count": 88,
   "id": "05360e20",
   "metadata": {},
   "outputs": [
    {
     "name": "stdout",
     "output_type": "stream",
     "text": [
      "True\n"
     ]
    }
   ],
   "source": [
    "print(\"cat\" != \"dog\")"
   ]
  },
  {
   "cell_type": "markdown",
   "id": "d8c0841b",
   "metadata": {},
   "source": [
    "The comparison operators include: \n",
    "\n",
    "- \"==\"    (equality) \n",
    "\n",
    "- \"!=\"    (not equal to) \n",
    "\n",
    "- \">\"     (greater than)\n",
    "\n",
    "- \"<\"     (less than)\n",
    "\n",
    "- \">=\"    (greater than or equal to)\n",
    "\n",
    "- \"<=\"    (less than or equal to)"
   ]
  },
  {
   "cell_type": "markdown",
   "id": "65bf949c",
   "metadata": {},
   "source": [
    "# Logical Operators"
   ]
  },
  {
   "cell_type": "markdown",
   "id": "33965ddd",
   "metadata": {},
   "source": [
    "Logical operators are used to construct more complex expressions. You can make complex comparisons by joining comparison statements together using the logical operators: and, or, not. Complex comparisons return a Boolean (True or False) result. "
   ]
  },
  {
   "cell_type": "markdown",
   "id": "237fc29b",
   "metadata": {},
   "source": [
    "- and \n",
    "\n",
    "Both sides of the statement being evaluated must be True for the whole statement to be True. \n",
    "\n",
    "Example: (5 > 1 and 5 < 10) = True\n",
    "\n",
    "- or \n",
    "\n",
    "If either side of the comparison is True, then the whole statement is True. \n",
    "\n",
    "Example: (color = \"blue\" or color = \"green\") = True\n",
    "\n",
    "- not \n",
    "\n",
    "Inverts the Boolean result of the statement immediately following it. So, if a statement evaluates to True, and we put the not operator in front of it, it would become False. \n",
    "\n",
    "Example: (not \"A\" == \"A\") = False"
   ]
  },
  {
   "cell_type": "markdown",
   "id": "b0a60c25",
   "metadata": {},
   "source": [
    "# And"
   ]
  },
  {
   "cell_type": "markdown",
   "id": "304a9467",
   "metadata": {},
   "source": [
    "In Python, you can use the logical operator and to connect more than one comparison. This type of complex comparison is used to check if two comparison statements are both True or not. You might use the and operator when you need to execute a block of code, but only if two different conditions are true. For example, you might want to write a script  that automates sending you an emergency alert if a server stops responding and there is an unusual increase in employees opening trouble tickets.  "
   ]
  },
  {
   "cell_type": "code",
   "execution_count": 89,
   "id": "312f1224",
   "metadata": {},
   "outputs": [
    {
     "name": "stdout",
     "output_type": "stream",
     "text": [
      "True\n"
     ]
    }
   ],
   "source": [
    "print((6*4 >= 18) and (9+9 <= 36/2))"
   ]
  },
  {
   "cell_type": "code",
   "execution_count": 90,
   "id": "b4d39dd1",
   "metadata": {},
   "outputs": [
    {
     "name": "stdout",
     "output_type": "stream",
     "text": [
      "False\n"
     ]
    }
   ],
   "source": [
    "print(10 < 9 and 11 > 10)"
   ]
  },
  {
   "cell_type": "markdown",
   "id": "73f0c307",
   "metadata": {},
   "source": [
    "# Or"
   ]
  },
  {
   "cell_type": "markdown",
   "id": "e7ee4533",
   "metadata": {},
   "source": [
    "The or logical operator tests two conditions to determine if at least one side of the or logical operator is True. The result of the test can be used to trigger a block of code if at least one condition is present.\n"
   ]
  },
  {
   "cell_type": "markdown",
   "id": "2446dfa3",
   "metadata": {},
   "source": [
    "- True or True = True\n",
    "- True or False = True\n",
    "- False or True = True\n",
    "- False or False = False"
   ]
  },
  {
   "cell_type": "code",
   "execution_count": 91,
   "id": "0dfa812c",
   "metadata": {},
   "outputs": [
    {
     "name": "stdout",
     "output_type": "stream",
     "text": [
      "True\n"
     ]
    }
   ],
   "source": [
    "print(15/3 < 2+4 or 0 >= 6-7)"
   ]
  },
  {
   "cell_type": "markdown",
   "id": "c6756302",
   "metadata": {},
   "source": [
    "# Not"
   ]
  },
  {
   "cell_type": "markdown",
   "id": "b2d6f298",
   "metadata": {},
   "source": [
    "The not logical operator inverts the value of the comparison expression. This is a helpful tool when you want to execute a block of code as long as a certain condition is not present.\n",
    "\n",
    "- If the conditional  expression is True, the not logical operator can be added to make the expression not True (False). \n",
    "\n",
    "- If the conditional  expression is False, the not logical operator can be added to make the expression not False (True).  "
   ]
  },
  {
   "cell_type": "code",
   "execution_count": 92,
   "id": "7d474bec",
   "metadata": {},
   "outputs": [
    {
     "name": "stdout",
     "output_type": "stream",
     "text": [
      "True\n"
     ]
    }
   ],
   "source": [
    "today = \"Monday\"\n",
    "print(not today == \"Tuesday\")"
   ]
  },
  {
   "cell_type": "markdown",
   "id": "9ff99fce",
   "metadata": {},
   "source": [
    "# if Statements"
   ]
  },
  {
   "cell_type": "markdown",
   "id": "f3a03989",
   "metadata": {},
   "source": [
    "There comes situations in real life when we need to make some decisions and based on these decisions, we decide what should we do next. Similar situations arise in programming also where we need to make some decisions and based on these decisions we will execute the next block of code. Decision-making statements in programming languages decide the direction(Control Flow) of the flow of program execution."
   ]
  },
  {
   "cell_type": "code",
   "execution_count": null,
   "id": "d126da53",
   "metadata": {},
   "outputs": [],
   "source": [
    "if condition:\n",
    "\n",
    "   statement1\n",
    "   \n",
    "statement2"
   ]
  },
  {
   "cell_type": "code",
   "execution_count": 135,
   "id": "bb0a957b",
   "metadata": {},
   "outputs": [
    {
     "name": "stdout",
     "output_type": "stream",
     "text": [
      "20 is greater than 15\n"
     ]
    }
   ],
   "source": [
    "i = 20\n",
    "\n",
    "if i > 15:\n",
    "    print(\"20 is greater than 15\")\n"
   ]
  },
  {
   "cell_type": "code",
   "execution_count": 96,
   "id": "1dcd3528",
   "metadata": {},
   "outputs": [],
   "source": [
    "def hint_username(username):\n",
    "    if len(username) < 3:\n",
    "        print(\"Invalid username, Must be at least 3 character long!\")"
   ]
  },
  {
   "cell_type": "code",
   "execution_count": 97,
   "id": "5ec55b2a",
   "metadata": {},
   "outputs": [
    {
     "name": "stdout",
     "output_type": "stream",
     "text": [
      "Invalid username, Must be at least 3 character long!\n"
     ]
    }
   ],
   "source": [
    "hint_username(\"sa\")"
   ]
  },
  {
   "cell_type": "code",
   "execution_count": 98,
   "id": "5b888d6b",
   "metadata": {},
   "outputs": [],
   "source": [
    "hint_username(\"sadegh\")"
   ]
  },
  {
   "cell_type": "markdown",
   "id": "3ede4bd1",
   "metadata": {},
   "source": [
    "# Else"
   ]
  },
  {
   "cell_type": "markdown",
   "id": "e537d89b",
   "metadata": {},
   "source": [
    "what if we wanted the code to do something different if the evaluation is false? We can do this using the else statement. The else statement follows an if block, and is composed of the keyword else followed by a colon. The body of the else statement is indented to the right, and will be executed if the above if statement doesn’t execute."
   ]
  },
  {
   "cell_type": "code",
   "execution_count": 99,
   "id": "c3f700f1",
   "metadata": {},
   "outputs": [],
   "source": [
    "def hint_username(username):\n",
    "    if len(username) < 3:\n",
    "        print(\"Invalid username, Must be at least 3 character long!\")\n",
    "    else:\n",
    "        print(\"This is a valid username!\")"
   ]
  },
  {
   "cell_type": "code",
   "execution_count": 100,
   "id": "8fee2471",
   "metadata": {},
   "outputs": [
    {
     "name": "stdout",
     "output_type": "stream",
     "text": [
      "This is a valid username!\n"
     ]
    }
   ],
   "source": [
    "hint_username(\"sadegh\")"
   ]
  },
  {
   "cell_type": "markdown",
   "id": "28d56d21",
   "metadata": {},
   "source": [
    "The is_positive function should return True if the number received is positive and False if it isn't."
   ]
  },
  {
   "cell_type": "code",
   "execution_count": 136,
   "id": "fcfbcadc",
   "metadata": {},
   "outputs": [],
   "source": [
    "def is_positive(number):\n",
    "    if number > 0:\n",
    "        return True\n",
    "    else:\n",
    "        return False"
   ]
  },
  {
   "cell_type": "code",
   "execution_count": 138,
   "id": "8cd5cb71",
   "metadata": {},
   "outputs": [
    {
     "data": {
      "text/plain": [
       "False"
      ]
     },
     "execution_count": 138,
     "metadata": {},
     "output_type": "execute_result"
    }
   ],
   "source": [
    "is_positive(-1)"
   ]
  },
  {
   "cell_type": "markdown",
   "id": "a11c7d29",
   "metadata": {},
   "source": [
    "write a function that can detect a number is even or not and call this function as is_even"
   ]
  },
  {
   "cell_type": "code",
   "execution_count": 139,
   "id": "136a96eb",
   "metadata": {},
   "outputs": [],
   "source": [
    "def is_even(number):\n",
    "    if number % 2 == 0:\n",
    "        return True\n",
    "    else:\n",
    "        return False"
   ]
  },
  {
   "cell_type": "code",
   "execution_count": 141,
   "id": "38b36ed2",
   "metadata": {},
   "outputs": [
    {
     "data": {
      "text/plain": [
       "True"
      ]
     },
     "execution_count": 141,
     "metadata": {},
     "output_type": "execute_result"
    }
   ],
   "source": [
    "is_even(12)"
   ]
  },
  {
   "cell_type": "markdown",
   "id": "ac53bfdc",
   "metadata": {},
   "source": [
    "# Elif"
   ]
  },
  {
   "cell_type": "markdown",
   "id": "0c2e86d7",
   "metadata": {},
   "source": [
    "Let's go back to our trusty username validation example. Now, what if your company also had a rule that usernames longer than 15 characters aren't allowed?"
   ]
  },
  {
   "cell_type": "code",
   "execution_count": 101,
   "id": "e9f6bea8",
   "metadata": {},
   "outputs": [],
   "source": [
    "def hint_username(username):\n",
    "    if len(username) < 3:\n",
    "        print(\"Invalid Username, Must be at least 3 character long!\")\n",
    "    else:\n",
    "        if len(username) > 15:\n",
    "            print(\"Invalid Username, Must be at most 15 character long!\")\n",
    "        else:\n",
    "            print(\"This is valid Username!\")"
   ]
  },
  {
   "cell_type": "markdown",
   "id": "8ef26623",
   "metadata": {},
   "source": [
    "Very similar to the if statements, an elif statement starts with the elif keyword, followed by a comparison to be evaluated. This is followed by a colon, and then the code block on the next line, indented to the right. An elif statement must follow an if statement, and will only be evaluated if the if statement was evaluated as false. You can include multiple elif statements to build complex branching in your code to do all kinds of powerful things!"
   ]
  },
  {
   "cell_type": "code",
   "execution_count": 104,
   "id": "344488c0",
   "metadata": {},
   "outputs": [],
   "source": [
    "def hint_username(username):\n",
    "    if len(username) < 3:\n",
    "        print(\"Invalid Username, must be at least 3 character long!\")\n",
    "    elif len(username) > 15:\n",
    "        print(\"Invalid Username, Must be at most 15 character long!\")\n",
    "    else:\n",
    "        print(\"Valid Username!\")"
   ]
  },
  {
   "cell_type": "code",
   "execution_count": 105,
   "id": "e5ae1ea4",
   "metadata": {},
   "outputs": [
    {
     "name": "stdout",
     "output_type": "stream",
     "text": [
      "Invalid Username, Must be at most 15 character long!\n"
     ]
    }
   ],
   "source": [
    "hint_username('agdgafdsadjvajhdeqdddd')"
   ]
  },
  {
   "cell_type": "code",
   "execution_count": 109,
   "id": "4b29c8cc",
   "metadata": {},
   "outputs": [
    {
     "name": "stdout",
     "output_type": "stream",
     "text": [
      "The number is 65\n"
     ]
    }
   ],
   "source": [
    "# Sets value of the \"number\" variable\n",
    "number = 65\n",
    "# The \"number\" variable will first be compared to 5. Since it is \n",
    "# False that \"number\" is not less than or equal to 5, the expression indented \n",
    "# under this line will be ignored. \n",
    "if number <= 5:\n",
    "    print(\"The number is 5 or smaller\")\n",
    " \n",
    "# Next, the \"number\" variable will be compared to 33. Since it is \n",
    "# False that \"number\" is equal to 33, the expression indented under \n",
    "# this line will be ignored. \n",
    "elif number == 33:\n",
    "    print(\"The number is 33.\")\n",
    " \n",
    "# Then, the \"number\" variable will be compared to 32 and 6. Since it \n",
    "# is True that 25 is less than 32 and greater than 6, the Python \n",
    "# interpreter will print \"The number is less than 32 and/or greater\n",
    "# than 6.\" Then, it will exit the if-elif-else statement and the remainder \n",
    "# of the if-elif-else statement will be ignored.\n",
    "elif number < 32 and number >= 6:\n",
    "    print(\"The number is less than 32 and greater than 6.\")\n",
    "else:\n",
    "    print(\"The number is \" + str(number))\n",
    "\n",
    "\n",
    " \n",
    "# Expected output is:\n",
    "# The number is less than 32 and greater than 6."
   ]
  },
  {
   "cell_type": "markdown",
   "id": "285935a4",
   "metadata": {},
   "source": [
    "# Quiz"
   ]
  },
  {
   "cell_type": "markdown",
   "id": "3761d084",
   "metadata": {},
   "source": [
    "The function receives a name, then returns a greeting based on whether or not that name is \"Taylor\"."
   ]
  },
  {
   "cell_type": "code",
   "execution_count": 142,
   "id": "87a89c06",
   "metadata": {},
   "outputs": [
    {
     "name": "stdout",
     "output_type": "stream",
     "text": [
      "Welcome back Taylor!\n",
      "Hello there, John\n"
     ]
    }
   ],
   "source": [
    "def greeting(name):\n",
    "    if name == \"Taylor\":\n",
    "        return \"Welcome back Taylor!\"\n",
    "    else:\n",
    "        return \"Hello there, \" + name\n",
    "\n",
    "print(greeting(\"Taylor\"))\n",
    "print(greeting(\"John\"))"
   ]
  },
  {
   "cell_type": "markdown",
   "id": "11d985c1",
   "metadata": {},
   "source": [
    "What’s the output of this code if number equals 10?"
   ]
  },
  {
   "cell_type": "code",
   "execution_count": 143,
   "id": "fe393f64",
   "metadata": {},
   "outputs": [
    {
     "name": "stdout",
     "output_type": "stream",
     "text": [
      "2\n"
     ]
    }
   ],
   "source": [
    "number = 10\n",
    "if number > 11:\n",
    "    print(0)\n",
    "elif number != 10:\n",
    "    print(1)\n",
    "elif number >= 20 or number < 12:\n",
    "    print(2)\n",
    "else:\n",
    "    print(3)"
   ]
  },
  {
   "cell_type": "markdown",
   "id": "aa9791bb",
   "metadata": {},
   "source": [
    "If a filesystem has a block size of 4096 bytes, this means that a file comprised of only one byte will still use 4096 bytes of storage. A file made up of 4097 bytes will use 4096*2=8192 bytes of storage. Knowing this, can you fill in the gaps in the calculate_storage function below, which calculates the total number of bytes needed to store a file of a given size?"
   ]
  },
  {
   "cell_type": "code",
   "execution_count": 147,
   "id": "4589e652",
   "metadata": {},
   "outputs": [
    {
     "name": "stdout",
     "output_type": "stream",
     "text": [
      "4096\n",
      "4096\n",
      "8192\n",
      "8192\n",
      "8192\n"
     ]
    }
   ],
   "source": [
    "def calculate_storage(filesize):\n",
    "    block_size = 4096\n",
    "    # Use floor division to calculate how many blocks are fully occupied\n",
    "    full_blocks = filesize // block_size\n",
    "    # Use the modulo operator to check whether there's any remainder\n",
    "    partial_block_remainder = filesize % block_size\n",
    "    # Depending on whether there's a remainder or not, return\n",
    "    # the total number of bytes required to allocate enough blocks\n",
    "    # to store your data.\n",
    "    if partial_block_remainder == 0:\n",
    "        return full_blocks * block_size\n",
    "    else:\n",
    "        return (full_blocks + 1) * block_size\n",
    "\n",
    "print(calculate_storage(1))    # Should be 4096\n",
    "print(calculate_storage(4096)) # Should be 4096\n",
    "print(calculate_storage(4097)) # Should be 8192\n",
    "print(calculate_storage(6000)) # Should be 8192\n",
    "print(calculate_storage(8192)) # Should be 8192"
   ]
  },
  {
   "cell_type": "markdown",
   "id": "ecfc6829",
   "metadata": {},
   "source": [
    "block_size = 4096: This line sets the block_size to 4096 bytes, which is the size of each block in the filesystem.\n",
    "\n",
    "full_blocks = filesize // block_size: Here, we use the floor division (//) to calculate how many complete blocks can be fully occupied by the given filesize. Floor division divides the filesize by the block_size and discards the remainder, giving us the number of complete blocks. For example, if the filesize is 8192 bytes, and the block_size is 4096 bytes, the result of filesize // block_size will be 2 because 8192 bytes can be divided evenly into two complete blocks of 4096 bytes each.\n",
    "\n",
    "partial_block_remainder = filesize % block_size: The modulo operator (%) calculates the remaining bytes (partial_block_remainder) after filling the complete blocks. It returns the remainder of the division of filesize by block_size. For example, if the filesize is 8192 bytes, and the block_size is 4096 bytes, the result of filesize % block_size will be 0 because there are no remaining bytes after filling the complete blocks.\n",
    "\n",
    "The if statement checks whether there's any remaining data that doesn't fit into a complete block (partial_block_remainder == 0). If there's no remainder, it means the filesize is already a multiple of the block size, and we can store the data in complete blocks without any additional space.\n",
    "\n",
    "If there's no remainder (partial_block_remainder == 0), we return the total size as full_blocks * block_size, which is the number of complete blocks multiplied by the block size.\n",
    "\n",
    "If there's a remainder, it means we need an additional block to store the remaining data. So, we return the total size as (full_blocks + 1) * block_size, which is the number of complete blocks plus one (to accommodate the remaining data) multiplied by the block size.\n"
   ]
  },
  {
   "cell_type": "code",
   "execution_count": 149,
   "id": "3c4e3186",
   "metadata": {},
   "outputs": [
    {
     "data": {
      "text/plain": [
       "2"
      ]
     },
     "execution_count": 149,
     "metadata": {},
     "output_type": "execute_result"
    }
   ],
   "source": [
    "8192 // 4096"
   ]
  },
  {
   "cell_type": "code",
   "execution_count": 150,
   "id": "7e3dfab3",
   "metadata": {},
   "outputs": [
    {
     "data": {
      "text/plain": [
       "0"
      ]
     },
     "execution_count": 150,
     "metadata": {},
     "output_type": "execute_result"
    }
   ],
   "source": [
    "8192 % 4096"
   ]
  },
  {
   "cell_type": "markdown",
   "id": "3b6fbee5",
   "metadata": {},
   "source": [
    "# Week 1 & 2 Recap"
   ]
  },
  {
   "cell_type": "code",
   "execution_count": null,
   "id": "d92fe850",
   "metadata": {},
   "outputs": [],
   "source": [
    "# A function is created with the def() keyword. The parameter\n",
    "# variable \"time_as_string\" is passed to the function through a \n",
    "# call to the function.\n",
    "def task_reminder(time_as_string):\n",
    "\n",
    "    # The following if-elif-else block assigns various strings to\n",
    "    # the variable \"task\" depending on specific conditions. The\n",
    "    # test conditions are set using the == equality comparison \n",
    "    # operator. In this case, the time passed through the \n",
    "    # \"time_as_string\" parameter variable is tested as the \n",
    "    # specific condition. So, if the time  is \"11:30 a.m.\", then \n",
    "    # \"task\" is assigned the value: \"Run TPS report\".\n",
    "    if time_as_string == \"8:00 a.m.\":\n",
    "        task = \"Check overnight backup images\"\n",
    "    elif time_as_string == \"11:30 a.m.\":\n",
    "        task = \"Run TPS report\"\n",
    "    elif time_as_string == \"5:30 p.m.\":\n",
    "        task = \"Reboot servers\"\n",
    "    # The else statement is a catchall for all other values of \n",
    "    # the \"time_as_string\" parameter variable not listed in the\n",
    "    # if-elif block of code.\n",
    "    else:\n",
    "        task = \"Provide IT Support to employees\"\n",
    "\n",
    "    # This line returns the value of \"task\" to the function call.\n",
    "    return task\n",
    "\n",
    "# This line calls the function and passes a parameter  \n",
    "# (\"10:00 a.m.\") to the function.\n",
    "print(task_reminder(\"10:00 a.m.\"))\n",
    "# Should print \"Provide IT Support to employees\"\n"
   ]
  },
  {
   "cell_type": "code",
   "execution_count": null,
   "id": "0ae068b1",
   "metadata": {},
   "outputs": [],
   "source": [
    "number1 = 10\n",
    "number2 = 50\n",
    "number1 * number2"
   ]
  },
  {
   "cell_type": "code",
   "execution_count": 152,
   "id": "cd80fb21",
   "metadata": {},
   "outputs": [
    {
     "data": {
      "text/plain": [
       "18000"
      ]
     },
     "execution_count": 152,
     "metadata": {},
     "output_type": "execute_result"
    }
   ],
   "source": [
    "# multiply two parameter in function\n",
    "def multiply(a, b):\n",
    "    return a * b\n",
    "\n",
    "multiply(multiply(10,20), multiply(30,3))"
   ]
  },
  {
   "cell_type": "markdown",
   "id": "32e3b74d",
   "metadata": {},
   "source": [
    "Write a function that can minus two numbers"
   ]
  },
  {
   "cell_type": "code",
   "execution_count": 153,
   "id": "1d924a7c",
   "metadata": {},
   "outputs": [],
   "source": [
    "def difference(a, b):\n",
    "    return a - b"
   ]
  },
  {
   "cell_type": "markdown",
   "id": "0d216f1c",
   "metadata": {},
   "source": [
    "Write a function that can sum two numbers"
   ]
  },
  {
   "cell_type": "code",
   "execution_count": 154,
   "id": "acde1284",
   "metadata": {},
   "outputs": [],
   "source": [
    "def sum(a, b):\n",
    "    return a + b"
   ]
  },
  {
   "cell_type": "code",
   "execution_count": 155,
   "id": "976a7e14",
   "metadata": {},
   "outputs": [
    {
     "data": {
      "text/plain": [
       "-78"
      ]
     },
     "execution_count": 155,
     "metadata": {},
     "output_type": "execute_result"
    }
   ],
   "source": [
    "difference(sum(10,20), sum(87,21))"
   ]
  },
  {
   "cell_type": "markdown",
   "id": "68c5cf25",
   "metadata": {},
   "source": [
    "Write a function that can get the remainder of two number"
   ]
  },
  {
   "cell_type": "code",
   "execution_count": 156,
   "id": "7610620f",
   "metadata": {},
   "outputs": [
    {
     "name": "stdout",
     "output_type": "stream",
     "text": [
      "1\n"
     ]
    }
   ],
   "source": [
    "def get_remainder(a, b):\n",
    "    if a == 0 or b == 0:\n",
    "        remainder = 0\n",
    "    else:\n",
    "        remainder = a % b\n",
    "    return remainder\n",
    "print(get_remainder(10, 3))"
   ]
  },
  {
   "cell_type": "markdown",
   "id": "6a3fcd98",
   "metadata": {},
   "source": [
    "write a function which compares two numbers and returns them as increasing order"
   ]
  },
  {
   "cell_type": "code",
   "execution_count": 158,
   "id": "fcca8e6a",
   "metadata": {},
   "outputs": [
    {
     "name": "stdout",
     "output_type": "stream",
     "text": [
      "99 100\n"
     ]
    }
   ],
   "source": [
    "# This function compares two numbers and returns them\n",
    "# in increasing order.\n",
    "def order_number(number1, number2):\n",
    "    if number1 > number2:\n",
    "        return number2, number1\n",
    "    else:\n",
    "        return number1, number2\n",
    "\n",
    "# 1) Fill in the blanks so the print statement displays the result\n",
    "#    of the function call\n",
    "smaller, bigger = order_number(100, 99)\n",
    "print(smaller, bigger)"
   ]
  },
  {
   "cell_type": "markdown",
   "id": "7e3f8ec4",
   "metadata": {},
   "source": [
    "Write a Python function called classify_number that takes an integer as input and returns a string indicating whether the number is positive, negative, or zero."
   ]
  },
  {
   "cell_type": "code",
   "execution_count": 161,
   "id": "762545a4",
   "metadata": {},
   "outputs": [
    {
     "name": "stdout",
     "output_type": "stream",
     "text": [
      "Negative\n"
     ]
    }
   ],
   "source": [
    "def classify_number(number):\n",
    "    if number > 0:\n",
    "        return \"Positive\"\n",
    "    elif number < 0:\n",
    "        return \"Negative\"\n",
    "    else:\n",
    "        return \"Zero\"\n",
    "\n",
    "result = classify_number(-1)\n",
    "print(result)  # Output: \"Positive\""
   ]
  },
  {
   "cell_type": "markdown",
   "id": "6737f16b",
   "metadata": {},
   "source": [
    "Write a Python function called get_grade that takes a numerical score as input and returns the corresponding letter grade based on the following grading scale:\n",
    "\n",
    "- 90 or above: \"A\"\n",
    "- 80 to 89: \"B\"\n",
    "- 70 to 79: \"C\"\n",
    "- 60 to 69: \"D\"\n",
    "- Below 60: \"F\""
   ]
  },
  {
   "cell_type": "code",
   "execution_count": 163,
   "id": "920f8724",
   "metadata": {},
   "outputs": [
    {
     "name": "stdout",
     "output_type": "stream",
     "text": [
      "D\n"
     ]
    }
   ],
   "source": [
    "def get_grade(score):\n",
    "    if score >= 90:\n",
    "        return \"A\"\n",
    "    elif score >= 80:\n",
    "        return \"B\"\n",
    "    elif score >= 70:\n",
    "        return \"C\"\n",
    "    elif score >= 60:\n",
    "        return \"D\"\n",
    "    else:\n",
    "        return \"F\"\n",
    "    \n",
    "\n",
    "result = get_grade(60)\n",
    "print(result)  # Output: \"D\""
   ]
  },
  {
   "cell_type": "markdown",
   "id": "c1ef8e62",
   "metadata": {},
   "source": [
    "Write a Python function called check_divisibility that takes two integers, num and divisor, as input. The function should check if num is divisible by divisor without any remainder. If it is, the function should return the message \"Divisible\". Otherwise, it should return the message \"Not divisible\"."
   ]
  },
  {
   "cell_type": "code",
   "execution_count": 164,
   "id": "9b062923",
   "metadata": {},
   "outputs": [
    {
     "name": "stdout",
     "output_type": "stream",
     "text": [
      "Divisible\n"
     ]
    }
   ],
   "source": [
    "def check_divisibility(num, divisor):\n",
    "    if num % divisor == 0:\n",
    "        return \"Divisible\"\n",
    "    else:\n",
    "        return \"Not divisible\"\n",
    "    \n",
    "result = check_divisibility(12, 4)\n",
    "print(result)  # Output: \"Divisible\""
   ]
  },
  {
   "cell_type": "markdown",
   "id": "8d0c3b67",
   "metadata": {},
   "source": [
    "Write a Python function called is_even_length that takes a string as input and returns True if the length of the string is even, and False otherwise."
   ]
  },
  {
   "cell_type": "code",
   "execution_count": 165,
   "id": "d8dd579f",
   "metadata": {},
   "outputs": [
    {
     "name": "stdout",
     "output_type": "stream",
     "text": [
      "True\n"
     ]
    }
   ],
   "source": [
    "def is_even_length(input_string):\n",
    "    if len(input_string) % 2 == 0:\n",
    "        return True\n",
    "    else:\n",
    "        return False\n",
    "    \n",
    "result = is_even_length(\"Hell\")\n",
    "print(result)  # Output: True\n"
   ]
  },
  {
   "cell_type": "markdown",
   "id": "5ba81577",
   "metadata": {},
   "source": [
    "Write a Python function called is_triangle that takes three positive integers, side1, side2, and side3, as input. The function should check if the three integers can form the sides of a triangle. If they can, the function should return True. Otherwise, it should return False. According to the triangle inequality theorem, for a triangle to be valid, the sum of the lengths of any two sides must be greater than the length of the third side."
   ]
  },
  {
   "cell_type": "code",
   "execution_count": 171,
   "id": "d0bc4c89",
   "metadata": {},
   "outputs": [
    {
     "name": "stdout",
     "output_type": "stream",
     "text": [
      "True\n"
     ]
    }
   ],
   "source": [
    "def is_triangle(side1, side2, side3):\n",
    "    if side1 + side2 > side3 or side1 + side3 > side2 or side3 + side2 > side1:\n",
    "        return True\n",
    "    else:\n",
    "        return False\n",
    "\n",
    "result = is_triangle(3, 4, 5)\n",
    "print(result)  # Output: True\n"
   ]
  },
  {
   "cell_type": "markdown",
   "id": "73e04d85",
   "metadata": {},
   "source": [
    "Write a Python function called is_string_empty that takes a string as input and determines if it is empty. If the string is empty, the function should return True. Otherwise, it should return False."
   ]
  },
  {
   "cell_type": "code",
   "execution_count": 172,
   "id": "a558721e",
   "metadata": {},
   "outputs": [
    {
     "name": "stdout",
     "output_type": "stream",
     "text": [
      "True\n"
     ]
    }
   ],
   "source": [
    "def is_string_empty(input_string):\n",
    "    if len(input_string) > 0:\n",
    "        return False\n",
    "    else:\n",
    "        return True\n",
    "\n",
    "result = is_string_empty(\"\")\n",
    "print(result)  # Output: True"
   ]
  },
  {
   "cell_type": "markdown",
   "id": "740c8801",
   "metadata": {},
   "source": [
    "Write a function called greet_person that takes a name and a time of day (either \"morning,\" \"afternoon,\" or \"evening\") as its arguments and returns a personalized greeting message based on the provided inputs."
   ]
  },
  {
   "cell_type": "code",
   "execution_count": 173,
   "id": "4da8d734",
   "metadata": {},
   "outputs": [
    {
     "name": "stdout",
     "output_type": "stream",
     "text": [
      "Good morning, Alice!\n"
     ]
    }
   ],
   "source": [
    "def greet_person(name, time_of_day):\n",
    "    if time_of_day == \"morning\":\n",
    "        greeting = \"Good morning\"\n",
    "    elif time_of_day == \"afternoon\":\n",
    "        greeting = \"Good afternoon\"\n",
    "    elif time_of_day == \"evening\":\n",
    "        greeting = \"Good evening\"\n",
    "    else:\n",
    "        greeting = \"Hello\"\n",
    "    \n",
    "    return f\"{greeting}, {name}!\"\n",
    "\n",
    "# Test the function\n",
    "print(greet_person(\"Alice\", \"morning\"))\n",
    "# Should print \"Good morning, Alice!\""
   ]
  },
  {
   "cell_type": "markdown",
   "id": "95df99e7",
   "metadata": {},
   "source": [
    "Write a function called convert_temperature that takes a temperature value and a unit (\"C\" for Celsius or \"F\" for Fahrenheit) as its arguments and returns the converted temperature value in the other unit. Implement the conversion formulas:\n",
    "\n",
    "- Celsius to Fahrenheit: (C × 9/5) + 32\n",
    "- Fahrenheit to Celsius: (F - 32) × 5/9"
   ]
  },
  {
   "cell_type": "code",
   "execution_count": 174,
   "id": "38c874e0",
   "metadata": {},
   "outputs": [
    {
     "name": "stdout",
     "output_type": "stream",
     "text": [
      "30 C is 86.00 Fahrenheit\n"
     ]
    }
   ],
   "source": [
    "def convert_temperature(value, unit):\n",
    "    if unit == \"C\":\n",
    "        converted_value = (value * 9/5) + 32\n",
    "        new_unit = \"Fahrenheit\"\n",
    "    elif unit == \"F\":\n",
    "        converted_value = (value - 32) * 5/9\n",
    "        new_unit = \"Celsius\"\n",
    "    else:\n",
    "        return \"Invalid unit\"\n",
    "\n",
    "    return f\"{value} {unit} is {converted_value:.2f} {new_unit}\"\n",
    "\n",
    "# Test the function\n",
    "print(convert_temperature(30, \"C\"))\n",
    "# Should print \"30 C is 86.00 Fahrenheit\"\n"
   ]
  },
  {
   "cell_type": "markdown",
   "id": "7d8b9c9b",
   "metadata": {},
   "source": [
    "Write a function called calculate_tip that takes a bill amount and a tip percentage as its arguments and returns the total amount, including the tip."
   ]
  },
  {
   "cell_type": "code",
   "execution_count": 175,
   "id": "b1b18ed6",
   "metadata": {},
   "outputs": [
    {
     "name": "stdout",
     "output_type": "stream",
     "text": [
      "Total amount: $57.50\n"
     ]
    }
   ],
   "source": [
    "def calculate_tip(bill_amount, tip_percentage):\n",
    "    if tip_percentage < 0 or tip_percentage > 100:\n",
    "        return \"Invalid tip percentage\"\n",
    "    \n",
    "    tip_amount = (tip_percentage / 100) * bill_amount\n",
    "    total_amount = bill_amount + tip_amount\n",
    "    \n",
    "    return f\"Total amount: ${total_amount:.2f}\"\n",
    "\n",
    "# Test the function\n",
    "print(calculate_tip(50, 15))\n",
    "# Should print \"Total amount: $57.50\""
   ]
  },
  {
   "cell_type": "markdown",
   "id": "0576fd81",
   "metadata": {},
   "source": [
    "# QUIZ"
   ]
  },
  {
   "cell_type": "markdown",
   "id": "d42df28b",
   "metadata": {},
   "source": [
    "Complete the code to output the statement, “192.168.1.10 is the IP address of Printer Server 1”. Remember that precise syntax must be used to receive credit."
   ]
  },
  {
   "cell_type": "code",
   "execution_count": 176,
   "id": "e641e5de",
   "metadata": {},
   "outputs": [
    {
     "name": "stdout",
     "output_type": "stream",
     "text": [
      "192.168.1.10is the IP address of Printer Server 1\n"
     ]
    }
   ],
   "source": [
    "IP_address = \"192.168.1.10\"\n",
    "host_name = \"Printer Server 1\"\n",
    "print(IP_address + \"is the IP address of \" + host_name)\n",
    "# Should print \"192.168.1.10 is the IP address of Printer Server 1\""
   ]
  },
  {
   "cell_type": "markdown",
   "id": "0b164971",
   "metadata": {},
   "source": [
    "What is the value of this Python expression: \"blue\" == \"Blue\"?"
   ]
  },
  {
   "cell_type": "code",
   "execution_count": null,
   "id": "24ed4683",
   "metadata": {},
   "outputs": [],
   "source": [
    "\"blue\" == \"Blue\""
   ]
  },
  {
   "cell_type": "markdown",
   "id": "094de149",
   "metadata": {},
   "source": [
    "What is the elif keyword used for?"
   ]
  },
  {
   "cell_type": "markdown",
   "id": "805c079b",
   "metadata": {},
   "source": [
    "To handle more than two comparison cases"
   ]
  },
  {
   "cell_type": "markdown",
   "id": "14d65e07",
   "metadata": {},
   "source": [
    "Consider the following scenario about using if-elif-else statements:\n",
    "\n",
    "The fall weather is unpredictable. If the temperature is below 32 degrees Fahrenheit, a heavy coat should be worn. If it is above 32 degrees but not above 50 degrees, then a jacket should be sufficient. If it is above 50 but not above 65 degrees, a sweatshirt is appropriate, and above 65 degrees a t-shirt can be worn. Fill in the blanks in the function below so it returns the proper clothing type for the temperature."
   ]
  },
  {
   "cell_type": "code",
   "execution_count": 177,
   "id": "a183626b",
   "metadata": {},
   "outputs": [
    {
     "name": "stdout",
     "output_type": "stream",
     "text": [
      "T-Shirt\n",
      "Sweatshirt\n",
      "Sweatshirt\n",
      "Jacket\n",
      "Jacket\n",
      "Heavy Coat\n",
      "Heavy Coat\n"
     ]
    }
   ],
   "source": [
    "def clothing_type(temp):\n",
    "    if temp > 65:\n",
    "        clothing = \"T-Shirt\"\n",
    "    elif temp > 50:\n",
    "        clothing = \"Sweatshirt\"\n",
    "    elif temp > 32:\n",
    "        clothing = \"Jacket\"\n",
    "    else:\n",
    "        clothing = \"Heavy Coat\"\n",
    "    return clothing\n",
    "\n",
    "\n",
    "print(clothing_type(72)) # Should print T-Shirt\n",
    "print(clothing_type(55)) # Should print Sweatshirt\n",
    "print(clothing_type(65)) # Should print Sweatshirt\n",
    "print(clothing_type(50)) # Should print Jacket\n",
    "print(clothing_type(45)) # Should print Jacket\n",
    "print(clothing_type(32)) # Should print Heavy Coat\n",
    "print(clothing_type(0)) # Should print Heavy Coat"
   ]
  },
  {
   "cell_type": "markdown",
   "id": "2d815c2b",
   "metadata": {},
   "source": [
    "What's the value of the comparison in this if statement? Hint: The answer is not what the code will print."
   ]
  },
  {
   "cell_type": "code",
   "execution_count": null,
   "id": "58a5ff61",
   "metadata": {},
   "outputs": [],
   "source": [
    "n = 4\n",
    "if n*6 > n**2 or n%2 == 0:\n",
    "    print(\"Check\")"
   ]
  },
  {
   "cell_type": "markdown",
   "id": "3721b335",
   "metadata": {},
   "source": [
    "Fill in the blanks to complete the function. The character translator function receives a single lowercase letter, then prints the numeric location of the letter in the English alphabet. For example, “a” would return 1 and “b” would return 2. Currently, this function only supports the letters “a”, “b”, “c”, and “d” It returns \"unknown\" for all other letters or if the letter is uppercase."
   ]
  },
  {
   "cell_type": "code",
   "execution_count": 178,
   "id": "4a581930",
   "metadata": {},
   "outputs": [
    {
     "name": "stdout",
     "output_type": "stream",
     "text": [
      "1\n",
      "2\n",
      "3\n",
      "4\n",
      "unknown\n",
      "unknown\n",
      "unknown\n"
     ]
    }
   ],
   "source": [
    "def letter_translator(letter):\n",
    "    if letter == \"a\":\n",
    "        letter_position = 1\n",
    "    elif letter == \"b\":\n",
    "        letter_position = 2\n",
    "    elif letter == \"c\":\n",
    "        letter_position = 3\n",
    "    elif letter == \"d\":\n",
    "        letter_position = 4\n",
    "    else:\n",
    "        letter_position = \"unknown\"\n",
    "    return letter_position\n",
    "\n",
    "\n",
    "print(letter_translator(\"a\")) # Should print 1\n",
    "print(letter_translator(\"b\")) # Should print 2\n",
    "print(letter_translator(\"c\")) # Should print 3\n",
    "print(letter_translator(\"d\")) # Should print 4\n",
    "print(letter_translator(\"e\")) # Should print unknown\n",
    "print(letter_translator(\"A\")) # Should print unknown\n",
    "print(letter_translator(\"\")) # Should print unknown"
   ]
  },
  {
   "cell_type": "markdown",
   "id": "2476fd01",
   "metadata": {},
   "source": [
    "Can you calculate the output of this code?"
   ]
  },
  {
   "cell_type": "code",
   "execution_count": null,
   "id": "31d0a5c4",
   "metadata": {},
   "outputs": [],
   "source": [
    "def difference(x, y):\n",
    "    z = x - y\n",
    "    return z\n",
    "\n",
    "\n",
    "print(difference(5, 3))"
   ]
  },
  {
   "cell_type": "markdown",
   "id": "57e78914",
   "metadata": {},
   "source": [
    "What's the value of this Python expression?"
   ]
  },
  {
   "cell_type": "code",
   "execution_count": null,
   "id": "73522e76",
   "metadata": {},
   "outputs": [],
   "source": [
    "((10 >= 5*2) and (10 <= 5*2))"
   ]
  },
  {
   "cell_type": "markdown",
   "id": "68a82260",
   "metadata": {},
   "source": [
    "Fill in the blanks to complete the function. The “make_positive” function takes in a number and converts that number to its positive equivalent.  Complete the function to accomplish the following tasks:\n",
    "\n",
    "- use an if statement to test if the number is negative;\n",
    "- use a calculation inside the if statement to change the negative number to be positive;\n",
    "- use a calculation in the else statement to return any positive “number” unchanged."
   ]
  },
  {
   "cell_type": "code",
   "execution_count": 179,
   "id": "112828fb",
   "metadata": {},
   "outputs": [
    {
     "name": "stdout",
     "output_type": "stream",
     "text": [
      "4\n",
      "0\n",
      "0.25\n",
      "5\n"
     ]
    }
   ],
   "source": [
    "def make_positive(number):\n",
    "    if number < 0:\n",
    "        result = number * -1\n",
    "    else:\n",
    "        result = number\n",
    "    return result\n",
    "\n",
    "print(make_positive(-4))   # Should print 4\n",
    "print(make_positive(0))    # Should print 0\n",
    "print(make_positive(-.25)) # Should print 0.25\n",
    "print(make_positive(5))    # Should print 5"
   ]
  },
  {
   "cell_type": "code",
   "execution_count": null,
   "id": "87acc556",
   "metadata": {},
   "outputs": [],
   "source": []
  }
 ],
 "metadata": {
  "kernelspec": {
   "display_name": "Python 3 (ipykernel)",
   "language": "python",
   "name": "python3"
  },
  "language_info": {
   "codemirror_mode": {
    "name": "ipython",
    "version": 3
   },
   "file_extension": ".py",
   "mimetype": "text/x-python",
   "name": "python",
   "nbconvert_exporter": "python",
   "pygments_lexer": "ipython3",
   "version": "3.11.4"
  }
 },
 "nbformat": 4,
 "nbformat_minor": 5
}
